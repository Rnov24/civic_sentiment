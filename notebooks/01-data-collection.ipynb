{
  "cells": [
    {
      "cell_type": "markdown",
      "metadata": {
        "id": "XI5PmxxscoNt"
      },
      "source": [
        "# Data Collection"
      ]
    },
    {
      "cell_type": "markdown",
      "metadata": {
        "id": "0p3i7U1jcoNw"
      },
      "source": [
        "this notebook is for colecting data and spliting data"
      ]
    },
    {
      "cell_type": "markdown",
      "metadata": {
        "id": "F4HQEeB-coNw"
      },
      "source": [
        "## 1. Environment Setup"
      ]
    },
    {
      "cell_type": "markdown",
      "metadata": {
        "id": "t9GREvi7coNx"
      },
      "source": [
        "because i using this notebook on colab environment, so i must setting up little bit."
      ]
    },
    {
      "cell_type": "code",
      "execution_count": 1,
      "metadata": {
        "colab": {
          "base_uri": "https://localhost:8080/"
        },
        "id": "3dY9sJaUcoNx",
        "outputId": "ac31c624-08d3-4b56-83ad-e4881862b54c"
      },
      "outputs": [
        {
          "output_type": "stream",
          "name": "stdout",
          "text": [
            "Repository already cloned.\n"
          ]
        },
        {
          "output_type": "stream",
          "name": "stderr",
          "text": [
            "\u001b[32m2025-09-06 10:45:37.079\u001b[0m | \u001b[1mINFO    \u001b[0m | \u001b[36mcivic_sentiment.config\u001b[0m:\u001b[36m<module>\u001b[0m:\u001b[36m22\u001b[0m - \u001b[1mPROJ_ROOT path is: /content/civic_sentiment\u001b[0m\n"
          ]
        },
        {
          "output_type": "stream",
          "name": "stdout",
          "text": [
            "\n",
            "Environment setup complete!\n",
            "Raw data directory: /content/civic_sentiment/data/raw\n"
          ]
        }
      ],
      "source": [
        "import os\n",
        "from pathlib import Path\n",
        "import toml\n",
        "import sys\n",
        "import subprocess\n",
        "\n",
        "# --- 1. Clone your GitHub repository ---\n",
        "repo_url = \"https://github.com/rnov24/civic_sentiment.git\"\n",
        "repo_name = \"civic_sentiment\"  # Should match the PROJ_ROOT in config.py\n",
        "clone_path = Path(\"/content\") / repo_name\n",
        "\n",
        "if not clone_path.exists():\n",
        "    subprocess.run([\"git\", \"clone\", repo_url, str(clone_path)], check=True)\n",
        "else:\n",
        "    print(\"Repository already cloned.\")\n",
        "\n",
        "# --- 2. Install project dependencies ---\n",
        "sys.path.append(str(clone_path))\n",
        "pyproject_path = clone_path / \"pyproject.toml\"\n",
        "\n",
        "with open(pyproject_path, \"r\") as f:\n",
        "    pyproject = toml.load(f)\n",
        "\n",
        "dependencies = pyproject[\"project\"][\"dependencies\"]\n",
        "subprocess.run([\"pip\", \"install\"] + dependencies, check=True)\n",
        "\n",
        "# --- 3. Now you can import your project modules ---\n",
        "# The PROJ_ROOT in config.py is now correctly set to /content/civic_sentiment\n",
        "from civic_sentiment.config import RAW_DATA_DIR\n",
        "\n",
        "print(\"\\nEnvironment setup complete!\")\n",
        "print(f\"Raw data directory: {RAW_DATA_DIR}\")"
      ]
    },
    {
      "cell_type": "markdown",
      "metadata": {
        "id": "dZC2rWndcoNy"
      },
      "source": [
        "## 2. Scrape YouTube Comments\n",
        "\n",
        "I have 4 videos want to scrape the comments, following:\n",
        "  1. Pernyataan Presiden Prabowo, 29 Agustus 2025 (LJ8yd0uRvwY), this video is first president prabowo subianto official statement after demonstration and this video uploaded in same night after online drive affan kurniawan got run over by police tactical vehicle.\n",
        "  2. LIVE: Keterangan Pers Presiden Prabowo, Istana Merdeka, 31 Agustus 2025 (oOf1b1P6fGc), this video is president prabowo official statement with head of parliament, 5th president megawati, head of People's Consultative assembly, and majority political parties representations.\n",
        "  3. BREAKING NEWS - PIMPINAN DPR RI MENERIMA PERWAKILAN MAHASISWA\n",
        " (3Lz8PnFvjhs), This video contains information about the reception of student representatives to hold an audience for their aspirations at the People's Representative Council building. These aspirations became the forerunner of the 17+8 demands of the people formulated by Andovi et al.\n",
        "  3. BREAKING NEWS - KONFERENSI PERS DPR RI MENJAWAB TUNTUTAN 17+8\n",
        " (I9peHTC9g3o), this video is house of representatives statements about people's revolusionary demands \"17+8\".\n",
        "\n",
        "if you ask \"2 of those video is live streaming, why dont you scrape live chat?\" because those live chat is too massive i cant handle it by myself😭"
      ]
    },
    {
      "cell_type": "code",
      "execution_count": 2,
      "metadata": {
        "colab": {
          "base_uri": "https://localhost:8080/"
        },
        "id": "3bkHgQ95coNz",
        "outputId": "7a1160d7-6d01-48f4-c5a6-3b4639386004"
      },
      "outputs": [
        {
          "output_type": "stream",
          "name": "stdout",
          "text": [
            "Scraping comments from 4 videos...\n",
            "\u001b[32m2025-09-06 10:45:39.345\u001b[0m | \u001b[1mINFO    \u001b[0m | \u001b[36mcivic_sentiment.scraping\u001b[0m:\u001b[36mscrape_videos\u001b[0m:\u001b[36m76\u001b[0m - \u001b[1mScraping comments from: Pernyataan Presiden Prabowo, 29 Agustus 2025\u001b[0m\n"
          ]
        },
        {
          "output_type": "stream",
          "name": "stderr",
          "text": []
        },
        {
          "output_type": "stream",
          "name": "stdout",
          "text": [
            "\u001b[32m2025-09-06 10:45:57.155\u001b[0m | \u001b[1mINFO    \u001b[0m | \u001b[36mcivic_sentiment.scraping\u001b[0m:\u001b[36mscrape_videos\u001b[0m:\u001b[36m120\u001b[0m - \u001b[1mCollected 11209 comments from Pernyataan Presiden Prabowo, 29 Agustus 2025\u001b[0m\n",
            "\u001b[32m2025-09-06 10:45:57.280\u001b[0m | \u001b[1mINFO    \u001b[0m | \u001b[36mcivic_sentiment.scraping\u001b[0m:\u001b[36mscrape_videos\u001b[0m:\u001b[36m76\u001b[0m - \u001b[1mScraping comments from: LIVE: Keterangan Pers Presiden Prabowo, Istana Merdeka, 31 Agustus 2025\u001b[0m\n"
          ]
        },
        {
          "output_type": "stream",
          "name": "stderr",
          "text": []
        },
        {
          "output_type": "stream",
          "name": "stdout",
          "text": [
            "\u001b[32m2025-09-06 10:46:11.430\u001b[0m | \u001b[1mINFO    \u001b[0m | \u001b[36mcivic_sentiment.scraping\u001b[0m:\u001b[36mscrape_videos\u001b[0m:\u001b[36m120\u001b[0m - \u001b[1mCollected 9908 comments from LIVE: Keterangan Pers Presiden Prabowo, Istana Merdeka, 31 Agustus 2025\u001b[0m\n",
            "\u001b[32m2025-09-06 10:46:11.551\u001b[0m | \u001b[1mINFO    \u001b[0m | \u001b[36mcivic_sentiment.scraping\u001b[0m:\u001b[36mscrape_videos\u001b[0m:\u001b[36m76\u001b[0m - \u001b[1mScraping comments from: BREAKING NEWS - KONFERENSI PERS DPR RI MENJAWAB TUNTUTAN 17+8\u001b[0m\n"
          ]
        },
        {
          "output_type": "stream",
          "name": "stderr",
          "text": []
        },
        {
          "output_type": "stream",
          "name": "stdout",
          "text": [
            "\u001b[32m2025-09-06 10:46:13.291\u001b[0m | \u001b[1mINFO    \u001b[0m | \u001b[36mcivic_sentiment.scraping\u001b[0m:\u001b[36mscrape_videos\u001b[0m:\u001b[36m120\u001b[0m - \u001b[1mCollected 1121 comments from BREAKING NEWS - KONFERENSI PERS DPR RI MENJAWAB TUNTUTAN 17+8\u001b[0m\n",
            "\u001b[32m2025-09-06 10:46:13.460\u001b[0m | \u001b[1mINFO    \u001b[0m | \u001b[36mcivic_sentiment.scraping\u001b[0m:\u001b[36mscrape_videos\u001b[0m:\u001b[36m76\u001b[0m - \u001b[1mScraping comments from: BREAKING NEWS - PIMPINAN DPR RI MENERIMA PERWAKILAN MAHASISWA\u001b[0m\n"
          ]
        },
        {
          "output_type": "stream",
          "name": "stderr",
          "text": [
            "                                                                                                "
          ]
        },
        {
          "output_type": "stream",
          "name": "stdout",
          "text": [
            "\u001b[32m2025-09-06 10:46:13.839\u001b[0m | \u001b[1mINFO    \u001b[0m | \u001b[36mcivic_sentiment.scraping\u001b[0m:\u001b[36mscrape_videos\u001b[0m:\u001b[36m120\u001b[0m - \u001b[1mCollected 306 comments from BREAKING NEWS - PIMPINAN DPR RI MENERIMA PERWAKILAN MAHASISWA\u001b[0m\n",
            "\n",
            "✅ Found 22544 comments from 4 videos.\n",
            "\n",
            "📺 Videos processed:\n",
            "  • LJ8yd0uRvwY: Pernyataan Presiden Prabowo, 29 Agustus 2025\n",
            "  • oOf1b1P6fGc: LIVE: Keterangan Pers Presiden Prabowo, Istana Merdeka, 31 Agustus 2025\n",
            "  • I9peHTC9g3o: BREAKING NEWS - KONFERENSI PERS DPR RI MENJAWAB TUNTUTAN 17+8\n",
            "  • 3Lz8PnFvjhs: BREAKING NEWS - PIMPINAN DPR RI MENERIMA PERWAKILAN MAHASISWA\n"
          ]
        },
        {
          "output_type": "stream",
          "name": "stderr",
          "text": [
            "\r"
          ]
        }
      ],
      "source": [
        "from civic_sentiment.scraping import scrape_videos\n",
        "import os\n",
        "from google.colab import userdata\n",
        "\n",
        "# Get the API key from the colab secrets\n",
        "API_KEY = userdata.get('YOUTUBE_API_KEY')\n",
        "\n",
        "video_ids = [\n",
        "    \"LJ8yd0uRvwY\",\n",
        "    \"oOf1b1P6fGc\",\n",
        "    \"I9peHTC9g3o\",\n",
        "    \"3Lz8PnFvjhs\"\n",
        "]\n",
        "\n",
        "if API_KEY:\n",
        "    print(f\"Scraping comments from {len(video_ids)} videos...\")\n",
        "    comments_df = scrape_videos(API_KEY, video_ids)\n",
        "    print(f\"\\n✅ Found {len(comments_df)} comments from {comments_df['video_id'].nunique()} videos.\")\n",
        "\n",
        "    # Display video titles that were scraped\n",
        "    if not comments_df.empty:\n",
        "        print(\"\\n📺 Videos processed:\")\n",
        "        for video_id, title in comments_df[['video_id', 'video_title']].drop_duplicates().values:\n",
        "            print(f\"  • {video_id}: {title}\")\n",
        "else:\n",
        "    print(\"❌ YOUTUBE_API_KEY environment variable not set.\")\n",
        "    print(\"Please set your YouTube Data API key either:\")\n",
        "    print(\"1. As an environment variable: export YOUTUBE_API_KEY=your_key\")\n",
        "    print(\"2. Or modify the API_KEY variable in this cell\")"
      ]
    },
    {
      "cell_type": "markdown",
      "source": [
        "### Scraping Report\n"
      ],
      "metadata": {
        "id": "iBojRx6C1i9b"
      }
    },
    {
      "cell_type": "code",
      "execution_count": 3,
      "metadata": {
        "colab": {
          "base_uri": "https://localhost:8080/",
          "height": 640
        },
        "id": "lgNZqcuUcoN0",
        "outputId": "54af0931-2b79-4af7-cd8c-991b6c72e274"
      },
      "outputs": [
        {
          "output_type": "stream",
          "name": "stdout",
          "text": [
            "📊 Sample of scraped comments:\n",
            "Columns: ['author', 'published_at', 'text', 'video_id', 'video_title']\n",
            "Shape: (22544, 5)\n",
            "\n",
            "First 5 comments:\n"
          ]
        },
        {
          "output_type": "display_data",
          "data": {
            "text/plain": [
              "                   author          published_at  \\\n",
              "0  @SHOFAHIDAYATULILMIYAH  2025-09-06T04:21:29Z   \n",
              "1         @AkbarPutra-m2z  2025-09-05T22:29:54Z   \n",
              "2             @REZANGAPAK  2025-09-05T14:41:42Z   \n",
              "3     @riskaindriyani8418  2025-09-05T12:46:09Z   \n",
              "4           @ErikMuhdani8  2025-09-04T16:54:55Z   \n",
              "\n",
              "                                                text     video_id  \\\n",
              "0  Gimana mau percaya pak udah bbuuuanyak korban ...  LJ8yd0uRvwY   \n",
              "1  Assalamualaikum Pak Presiden RI, Pak Prabowo S...  LJ8yd0uRvwY   \n",
              "2  AKU YAKIN SEYAKIN YAKINNYA ! SEMUA INI ADA DAL...  LJ8yd0uRvwY   \n",
              "3  Jangan turut berduka cita doang dengeken suara...  LJ8yd0uRvwY   \n",
              "4  Coba pak presiden minta pak mahpud md ditugask...  LJ8yd0uRvwY   \n",
              "\n",
              "                                    video_title  \n",
              "0  Pernyataan Presiden Prabowo, 29 Agustus 2025  \n",
              "1  Pernyataan Presiden Prabowo, 29 Agustus 2025  \n",
              "2  Pernyataan Presiden Prabowo, 29 Agustus 2025  \n",
              "3  Pernyataan Presiden Prabowo, 29 Agustus 2025  \n",
              "4  Pernyataan Presiden Prabowo, 29 Agustus 2025  "
            ],
            "text/html": [
              "\n",
              "  <div id=\"df-cb916b41-afe0-4917-a996-0d09c6911706\" class=\"colab-df-container\">\n",
              "    <div>\n",
              "<style scoped>\n",
              "    .dataframe tbody tr th:only-of-type {\n",
              "        vertical-align: middle;\n",
              "    }\n",
              "\n",
              "    .dataframe tbody tr th {\n",
              "        vertical-align: top;\n",
              "    }\n",
              "\n",
              "    .dataframe thead th {\n",
              "        text-align: right;\n",
              "    }\n",
              "</style>\n",
              "<table border=\"1\" class=\"dataframe\">\n",
              "  <thead>\n",
              "    <tr style=\"text-align: right;\">\n",
              "      <th></th>\n",
              "      <th>author</th>\n",
              "      <th>published_at</th>\n",
              "      <th>text</th>\n",
              "      <th>video_id</th>\n",
              "      <th>video_title</th>\n",
              "    </tr>\n",
              "  </thead>\n",
              "  <tbody>\n",
              "    <tr>\n",
              "      <th>0</th>\n",
              "      <td>@SHOFAHIDAYATULILMIYAH</td>\n",
              "      <td>2025-09-06T04:21:29Z</td>\n",
              "      <td>Gimana mau percaya pak udah bbuuuanyak korban ...</td>\n",
              "      <td>LJ8yd0uRvwY</td>\n",
              "      <td>Pernyataan Presiden Prabowo, 29 Agustus 2025</td>\n",
              "    </tr>\n",
              "    <tr>\n",
              "      <th>1</th>\n",
              "      <td>@AkbarPutra-m2z</td>\n",
              "      <td>2025-09-05T22:29:54Z</td>\n",
              "      <td>Assalamualaikum Pak Presiden RI, Pak Prabowo S...</td>\n",
              "      <td>LJ8yd0uRvwY</td>\n",
              "      <td>Pernyataan Presiden Prabowo, 29 Agustus 2025</td>\n",
              "    </tr>\n",
              "    <tr>\n",
              "      <th>2</th>\n",
              "      <td>@REZANGAPAK</td>\n",
              "      <td>2025-09-05T14:41:42Z</td>\n",
              "      <td>AKU YAKIN SEYAKIN YAKINNYA ! SEMUA INI ADA DAL...</td>\n",
              "      <td>LJ8yd0uRvwY</td>\n",
              "      <td>Pernyataan Presiden Prabowo, 29 Agustus 2025</td>\n",
              "    </tr>\n",
              "    <tr>\n",
              "      <th>3</th>\n",
              "      <td>@riskaindriyani8418</td>\n",
              "      <td>2025-09-05T12:46:09Z</td>\n",
              "      <td>Jangan turut berduka cita doang dengeken suara...</td>\n",
              "      <td>LJ8yd0uRvwY</td>\n",
              "      <td>Pernyataan Presiden Prabowo, 29 Agustus 2025</td>\n",
              "    </tr>\n",
              "    <tr>\n",
              "      <th>4</th>\n",
              "      <td>@ErikMuhdani8</td>\n",
              "      <td>2025-09-04T16:54:55Z</td>\n",
              "      <td>Coba pak presiden minta pak mahpud md ditugask...</td>\n",
              "      <td>LJ8yd0uRvwY</td>\n",
              "      <td>Pernyataan Presiden Prabowo, 29 Agustus 2025</td>\n",
              "    </tr>\n",
              "  </tbody>\n",
              "</table>\n",
              "</div>\n",
              "    <div class=\"colab-df-buttons\">\n",
              "\n",
              "  <div class=\"colab-df-container\">\n",
              "    <button class=\"colab-df-convert\" onclick=\"convertToInteractive('df-cb916b41-afe0-4917-a996-0d09c6911706')\"\n",
              "            title=\"Convert this dataframe to an interactive table.\"\n",
              "            style=\"display:none;\">\n",
              "\n",
              "  <svg xmlns=\"http://www.w3.org/2000/svg\" height=\"24px\" viewBox=\"0 -960 960 960\">\n",
              "    <path d=\"M120-120v-720h720v720H120Zm60-500h600v-160H180v160Zm220 220h160v-160H400v160Zm0 220h160v-160H400v160ZM180-400h160v-160H180v160Zm440 0h160v-160H620v160ZM180-180h160v-160H180v160Zm440 0h160v-160H620v160Z\"/>\n",
              "  </svg>\n",
              "    </button>\n",
              "\n",
              "  <style>\n",
              "    .colab-df-container {\n",
              "      display:flex;\n",
              "      gap: 12px;\n",
              "    }\n",
              "\n",
              "    .colab-df-convert {\n",
              "      background-color: #E8F0FE;\n",
              "      border: none;\n",
              "      border-radius: 50%;\n",
              "      cursor: pointer;\n",
              "      display: none;\n",
              "      fill: #1967D2;\n",
              "      height: 32px;\n",
              "      padding: 0 0 0 0;\n",
              "      width: 32px;\n",
              "    }\n",
              "\n",
              "    .colab-df-convert:hover {\n",
              "      background-color: #E2EBFA;\n",
              "      box-shadow: 0px 1px 2px rgba(60, 64, 67, 0.3), 0px 1px 3px 1px rgba(60, 64, 67, 0.15);\n",
              "      fill: #174EA6;\n",
              "    }\n",
              "\n",
              "    .colab-df-buttons div {\n",
              "      margin-bottom: 4px;\n",
              "    }\n",
              "\n",
              "    [theme=dark] .colab-df-convert {\n",
              "      background-color: #3B4455;\n",
              "      fill: #D2E3FC;\n",
              "    }\n",
              "\n",
              "    [theme=dark] .colab-df-convert:hover {\n",
              "      background-color: #434B5C;\n",
              "      box-shadow: 0px 1px 3px 1px rgba(0, 0, 0, 0.15);\n",
              "      filter: drop-shadow(0px 1px 2px rgba(0, 0, 0, 0.3));\n",
              "      fill: #FFFFFF;\n",
              "    }\n",
              "  </style>\n",
              "\n",
              "    <script>\n",
              "      const buttonEl =\n",
              "        document.querySelector('#df-cb916b41-afe0-4917-a996-0d09c6911706 button.colab-df-convert');\n",
              "      buttonEl.style.display =\n",
              "        google.colab.kernel.accessAllowed ? 'block' : 'none';\n",
              "\n",
              "      async function convertToInteractive(key) {\n",
              "        const element = document.querySelector('#df-cb916b41-afe0-4917-a996-0d09c6911706');\n",
              "        const dataTable =\n",
              "          await google.colab.kernel.invokeFunction('convertToInteractive',\n",
              "                                                    [key], {});\n",
              "        if (!dataTable) return;\n",
              "\n",
              "        const docLinkHtml = 'Like what you see? Visit the ' +\n",
              "          '<a target=\"_blank\" href=https://colab.research.google.com/notebooks/data_table.ipynb>data table notebook</a>'\n",
              "          + ' to learn more about interactive tables.';\n",
              "        element.innerHTML = '';\n",
              "        dataTable['output_type'] = 'display_data';\n",
              "        await google.colab.output.renderOutput(dataTable, element);\n",
              "        const docLink = document.createElement('div');\n",
              "        docLink.innerHTML = docLinkHtml;\n",
              "        element.appendChild(docLink);\n",
              "      }\n",
              "    </script>\n",
              "  </div>\n",
              "\n",
              "\n",
              "    <div id=\"df-4ebf9389-cd60-4d19-b7ea-a5b501ee9236\">\n",
              "      <button class=\"colab-df-quickchart\" onclick=\"quickchart('df-4ebf9389-cd60-4d19-b7ea-a5b501ee9236')\"\n",
              "                title=\"Suggest charts\"\n",
              "                style=\"display:none;\">\n",
              "\n",
              "<svg xmlns=\"http://www.w3.org/2000/svg\" height=\"24px\"viewBox=\"0 0 24 24\"\n",
              "     width=\"24px\">\n",
              "    <g>\n",
              "        <path d=\"M19 3H5c-1.1 0-2 .9-2 2v14c0 1.1.9 2 2 2h14c1.1 0 2-.9 2-2V5c0-1.1-.9-2-2-2zM9 17H7v-7h2v7zm4 0h-2V7h2v10zm4 0h-2v-4h2v4z\"/>\n",
              "    </g>\n",
              "</svg>\n",
              "      </button>\n",
              "\n",
              "<style>\n",
              "  .colab-df-quickchart {\n",
              "      --bg-color: #E8F0FE;\n",
              "      --fill-color: #1967D2;\n",
              "      --hover-bg-color: #E2EBFA;\n",
              "      --hover-fill-color: #174EA6;\n",
              "      --disabled-fill-color: #AAA;\n",
              "      --disabled-bg-color: #DDD;\n",
              "  }\n",
              "\n",
              "  [theme=dark] .colab-df-quickchart {\n",
              "      --bg-color: #3B4455;\n",
              "      --fill-color: #D2E3FC;\n",
              "      --hover-bg-color: #434B5C;\n",
              "      --hover-fill-color: #FFFFFF;\n",
              "      --disabled-bg-color: #3B4455;\n",
              "      --disabled-fill-color: #666;\n",
              "  }\n",
              "\n",
              "  .colab-df-quickchart {\n",
              "    background-color: var(--bg-color);\n",
              "    border: none;\n",
              "    border-radius: 50%;\n",
              "    cursor: pointer;\n",
              "    display: none;\n",
              "    fill: var(--fill-color);\n",
              "    height: 32px;\n",
              "    padding: 0;\n",
              "    width: 32px;\n",
              "  }\n",
              "\n",
              "  .colab-df-quickchart:hover {\n",
              "    background-color: var(--hover-bg-color);\n",
              "    box-shadow: 0 1px 2px rgba(60, 64, 67, 0.3), 0 1px 3px 1px rgba(60, 64, 67, 0.15);\n",
              "    fill: var(--button-hover-fill-color);\n",
              "  }\n",
              "\n",
              "  .colab-df-quickchart-complete:disabled,\n",
              "  .colab-df-quickchart-complete:disabled:hover {\n",
              "    background-color: var(--disabled-bg-color);\n",
              "    fill: var(--disabled-fill-color);\n",
              "    box-shadow: none;\n",
              "  }\n",
              "\n",
              "  .colab-df-spinner {\n",
              "    border: 2px solid var(--fill-color);\n",
              "    border-color: transparent;\n",
              "    border-bottom-color: var(--fill-color);\n",
              "    animation:\n",
              "      spin 1s steps(1) infinite;\n",
              "  }\n",
              "\n",
              "  @keyframes spin {\n",
              "    0% {\n",
              "      border-color: transparent;\n",
              "      border-bottom-color: var(--fill-color);\n",
              "      border-left-color: var(--fill-color);\n",
              "    }\n",
              "    20% {\n",
              "      border-color: transparent;\n",
              "      border-left-color: var(--fill-color);\n",
              "      border-top-color: var(--fill-color);\n",
              "    }\n",
              "    30% {\n",
              "      border-color: transparent;\n",
              "      border-left-color: var(--fill-color);\n",
              "      border-top-color: var(--fill-color);\n",
              "      border-right-color: var(--fill-color);\n",
              "    }\n",
              "    40% {\n",
              "      border-color: transparent;\n",
              "      border-right-color: var(--fill-color);\n",
              "      border-top-color: var(--fill-color);\n",
              "    }\n",
              "    60% {\n",
              "      border-color: transparent;\n",
              "      border-right-color: var(--fill-color);\n",
              "    }\n",
              "    80% {\n",
              "      border-color: transparent;\n",
              "      border-right-color: var(--fill-color);\n",
              "      border-bottom-color: var(--fill-color);\n",
              "    }\n",
              "    90% {\n",
              "      border-color: transparent;\n",
              "      border-bottom-color: var(--fill-color);\n",
              "    }\n",
              "  }\n",
              "</style>\n",
              "\n",
              "      <script>\n",
              "        async function quickchart(key) {\n",
              "          const quickchartButtonEl =\n",
              "            document.querySelector('#' + key + ' button');\n",
              "          quickchartButtonEl.disabled = true;  // To prevent multiple clicks.\n",
              "          quickchartButtonEl.classList.add('colab-df-spinner');\n",
              "          try {\n",
              "            const charts = await google.colab.kernel.invokeFunction(\n",
              "                'suggestCharts', [key], {});\n",
              "          } catch (error) {\n",
              "            console.error('Error during call to suggestCharts:', error);\n",
              "          }\n",
              "          quickchartButtonEl.classList.remove('colab-df-spinner');\n",
              "          quickchartButtonEl.classList.add('colab-df-quickchart-complete');\n",
              "        }\n",
              "        (() => {\n",
              "          let quickchartButtonEl =\n",
              "            document.querySelector('#df-4ebf9389-cd60-4d19-b7ea-a5b501ee9236 button');\n",
              "          quickchartButtonEl.style.display =\n",
              "            google.colab.kernel.accessAllowed ? 'block' : 'none';\n",
              "        })();\n",
              "      </script>\n",
              "    </div>\n",
              "\n",
              "    </div>\n",
              "  </div>\n"
            ],
            "application/vnd.google.colaboratory.intrinsic+json": {
              "type": "dataframe",
              "summary": "{\n  \"name\": \"    print(\\\"No comments were scraped\",\n  \"rows\": 5,\n  \"fields\": [\n    {\n      \"column\": \"author\",\n      \"properties\": {\n        \"dtype\": \"string\",\n        \"num_unique_values\": 5,\n        \"samples\": [\n          \"@AkbarPutra-m2z\",\n          \"@ErikMuhdani8\",\n          \"@REZANGAPAK\"\n        ],\n        \"semantic_type\": \"\",\n        \"description\": \"\"\n      }\n    },\n    {\n      \"column\": \"published_at\",\n      \"properties\": {\n        \"dtype\": \"object\",\n        \"num_unique_values\": 5,\n        \"samples\": [\n          \"2025-09-05T22:29:54Z\",\n          \"2025-09-04T16:54:55Z\",\n          \"2025-09-05T14:41:42Z\"\n        ],\n        \"semantic_type\": \"\",\n        \"description\": \"\"\n      }\n    },\n    {\n      \"column\": \"text\",\n      \"properties\": {\n        \"dtype\": \"string\",\n        \"num_unique_values\": 5,\n        \"samples\": [\n          \"Assalamualaikum Pak Presiden RI, Pak Prabowo Subianto, salam hormat Pak\\n\\nPerkenalkan Nama Saya Akbar Dari SulSel Kota Makassar Tepatnya Di Kabupaten Gowa Kecamatan Barombong Desa Kanjilo\\n\\nIjin menyampaikan Aspirasi Pak\\n\\nAtas Nama Rakyat INDONESIA Saya Ijin Menyampaikan Aspirasi Terkait Program 3jt Perumahan, Bilkhusus Di Kabupaten Gowa Kecamatan Barombong Desa Kanjilo, Program Tersebut Belum Terevaluasi Pak, Sedangkan Angka Kemiskinan Masyarakat Yang Belum Punya Rumah Sangat Nyata Terpampang Di Depan Mata Pak\\n\\nMaka Dari Itu Dengan Penuh Rasa Hormat, Tolong Pak, Tegaskan Hal Tersebut Kepada Para Jajarannya Di Tingkat Provinsi, Kabupaten, Kecamatan, Dan Disetiap Desa-Desa Yang Ada Di Provinsi SulSel Kota Makassar Khusnya Di Kabupaten Gowa, Kecamatan Barombong, Desa Kanjilo Terkait Program 3jt Perumahan Tersebut Pak, Dikarenakan Banyak Warga Yang Layak Menerima Subsidi Perumahan Tersebut Pak Menurut Data-Data Yang Ada Di Lapangan Pak\\n\\n#Semoga Pak Presiden Bisa Menanggapi Hal Ini Kami Sangat Berharap Pak\\n\\nAssalamualaikum wr.wb....\",\n          \"Coba pak presiden minta pak mahpud md ditugaskan lagi,...dan bisa membantu bapak dalam memberantas korupsi...Merdeka pak\\nhttps://youtu.be/JoWdAF4w6Qc?si=2UCsvIneckwdu7cQ\",\n          \"AKU YAKIN SEYAKIN YAKINNYA ! SEMUA INI ADA DALANGNYA  DAN AQ YAKI  DALANGNYA ADALAH PEMILI YABG SAKIT HATI KARENA KALAH.A Q YAKIN ITU . TAPI SAY TIDAK MENUDUH  .SAYA HANYA MEYAKINKAN DIRI SAYA SENDIRI .!\\n#SEMANGAT OAK PRABOWO  SEMOGA INDONESIA LEBIH MAJJU.!\"\n        ],\n        \"semantic_type\": \"\",\n        \"description\": \"\"\n      }\n    },\n    {\n      \"column\": \"video_id\",\n      \"properties\": {\n        \"dtype\": \"category\",\n        \"num_unique_values\": 1,\n        \"samples\": [\n          \"LJ8yd0uRvwY\"\n        ],\n        \"semantic_type\": \"\",\n        \"description\": \"\"\n      }\n    },\n    {\n      \"column\": \"video_title\",\n      \"properties\": {\n        \"dtype\": \"category\",\n        \"num_unique_values\": 1,\n        \"samples\": [\n          \"Pernyataan Presiden Prabowo, 29 Agustus 2025\"\n        ],\n        \"semantic_type\": \"\",\n        \"description\": \"\"\n      }\n    }\n  ]\n}"
            }
          },
          "metadata": {}
        },
        {
          "output_type": "stream",
          "name": "stdout",
          "text": [
            "\n",
            "📈 Summary:\n",
            "Total comments: 22544\n",
            "Unique videos: 4\n",
            "Unique authors: 19183\n",
            "\n",
            "📺 Comments per video:\n",
            "  3Lz8PnFvjhs: 306 comments\n",
            "    Title: BREAKING NEWS - PIMPINAN DPR RI MENERIMA PERWAKILA...\n",
            "  I9peHTC9g3o: 1121 comments\n",
            "    Title: BREAKING NEWS - KONFERENSI PERS DPR RI MENJAWAB TU...\n",
            "  LJ8yd0uRvwY: 11209 comments\n",
            "    Title: Pernyataan Presiden Prabowo, 29 Agustus 2025\n",
            "  oOf1b1P6fGc: 9908 comments\n",
            "    Title: LIVE: Keterangan Pers Presiden Prabowo, Istana Mer...\n"
          ]
        }
      ],
      "source": [
        "# Display the first 5 rows of the DataFrame with the new video_title column\n",
        "if not comments_df.empty:\n",
        "    print(\"📊 Sample of scraped comments:\")\n",
        "    print(f\"Columns: {list(comments_df.columns)}\")\n",
        "    print(f\"Shape: {comments_df.shape}\")\n",
        "    print(\"\\nFirst 5 comments:\")\n",
        "    display(comments_df.head())\n",
        "\n",
        "    # Show some basic statistics\n",
        "    print(f\"\\n📈 Summary:\")\n",
        "    print(f\"Total comments: {len(comments_df)}\")\n",
        "    print(f\"Unique videos: {comments_df['video_id'].nunique()}\")\n",
        "    print(f\"Unique authors: {comments_df['author'].nunique()}\")\n",
        "\n",
        "    # Show comments per video\n",
        "    print(f\"\\n📺 Comments per video:\")\n",
        "    video_stats = comments_df.groupby(['video_id', 'video_title']).size().reset_index(name='comment_count')\n",
        "    for _, row in video_stats.iterrows():\n",
        "        title_preview = row['video_title'][:50] + \"...\" if len(row['video_title']) > 50 else row['video_title']\n",
        "        print(f\"  {row['video_id']}: {row['comment_count']} comments\")\n",
        "        print(f\"    Title: {title_preview}\")\n",
        "else:\n",
        "    print(\"No comments were scraped.\")"
      ]
    },
    {
      "cell_type": "code",
      "execution_count": 4,
      "metadata": {
        "colab": {
          "base_uri": "https://localhost:8080/"
        },
        "id": "4USLM_UIcoN0",
        "outputId": "80c2206c-e8fd-4224-e7f6-2e9daa5ac625"
      },
      "outputs": [
        {
          "output_type": "stream",
          "name": "stdout",
          "text": [
            "💾 Comments saved to /content/civic_sentiment/data/raw/comments.csv\n",
            "📁 File size: 5789.2 KB\n"
          ]
        }
      ],
      "source": [
        "# Save the DataFrame to a CSV file\n",
        "if not comments_df.empty:\n",
        "    output_path = RAW_DATA_DIR / \"comments.csv\"\n",
        "    comments_df.to_csv(output_path, index=False)\n",
        "    print(f\"💾 Comments saved to {output_path}\")\n",
        "    print(f\"📁 File size: {output_path.stat().st_size / 1024:.1f} KB\")\n",
        "else:\n",
        "    print(\"⚠️ No data to save - comments DataFrame is empty\")"
      ]
    },
    {
      "cell_type": "code",
      "metadata": {
        "colab": {
          "base_uri": "https://localhost:8080/"
        },
        "id": "3a99ee5c",
        "outputId": "a2fcf629-91ab-4abb-8e9b-1d138dc39a7f"
      },
      "source": [
        "print(\"Checking for missing values:\")\n",
        "print(comments_df.isnull().sum())"
      ],
      "execution_count": 5,
      "outputs": [
        {
          "output_type": "stream",
          "name": "stdout",
          "text": [
            "Checking for missing values:\n",
            "author          0\n",
            "published_at    0\n",
            "text            0\n",
            "video_id        0\n",
            "video_title     0\n",
            "dtype: int64\n"
          ]
        }
      ]
    },
    {
      "cell_type": "markdown",
      "metadata": {
        "id": "2f9ba9f2"
      },
      "source": [
        "## Remove duplicates\n",
        "\n",
        "### Subtask:\n",
        "Identify and remove duplicate comments to ensure data integrity.\n"
      ]
    },
    {
      "cell_type": "markdown",
      "metadata": {
        "id": "499e69c5"
      },
      "source": [
        "**Reasoning**:\n",
        "Check for and remove duplicate rows from the DataFrame and print the relevant information.\n",
        "\n"
      ]
    },
    {
      "cell_type": "code",
      "metadata": {
        "colab": {
          "base_uri": "https://localhost:8080/"
        },
        "id": "f4498585",
        "outputId": "b0c611e0-cf61-4b58-9ea3-ea740bdb4b47"
      },
      "source": [
        "print(\"Checking for duplicate comments:\")\n",
        "duplicate_rows = comments_df.duplicated()\n",
        "print(f\"Number of duplicate rows found: {duplicate_rows.sum()}\")\n",
        "\n",
        "comments_df.drop_duplicates(inplace=True)\n",
        "\n",
        "print(\"\\nDataFrame shape after removing duplicates:\")\n",
        "print(comments_df.shape)"
      ],
      "execution_count": 6,
      "outputs": [
        {
          "output_type": "stream",
          "name": "stdout",
          "text": [
            "Checking for duplicate comments:\n",
            "Number of duplicate rows found: 7\n",
            "\n",
            "DataFrame shape after removing duplicates:\n",
            "(22537, 5)\n"
          ]
        }
      ]
    },
    {
      "cell_type": "markdown",
      "metadata": {
        "id": "29e63418"
      },
      "source": [
        "## Cleaning Time! ✨\n",
        "\n",
        "First things first, let's tackle any duplicate comments. We want to make sure each comment is unique so our data is accurate."
      ]
    },
    {
      "cell_type": "code",
      "metadata": {
        "colab": {
          "base_uri": "https://localhost:8080/",
          "height": 223
        },
        "id": "9f7e36f8",
        "outputId": "4fa8c23c-9465-4d99-e714-3e9e6194cf7a"
      },
      "source": [
        "import re\n",
        "import string\n",
        "\n",
        "def clean_text(text):\n",
        "    \"\"\"\n",
        "    Cleans the input text by converting to lowercase, removing URLs,\n",
        "    punctuation, numbers, and extra whitespace.\n",
        "    \"\"\"\n",
        "    text = text.lower() # Convert to lowercase\n",
        "    text = re.sub(r'http\\S+', '', text) # Remove URLs\n",
        "    text = text.translate(str.maketrans('', '', string.punctuation)) # Remove punctuation\n",
        "    text = re.sub(r'\\d+', '', text) # Remove numbers\n",
        "    text = re.sub(r'\\s+', ' ', text).strip() # Remove extra whitespace\n",
        "    return text\n",
        "\n",
        "comments_df['cleaned_text'] = comments_df['text'].apply(clean_text)\n",
        "\n",
        "print(\"DataFrame with cleaned_text column:\")\n",
        "display(comments_df[['text', 'cleaned_text']].head())"
      ],
      "execution_count": 7,
      "outputs": [
        {
          "output_type": "stream",
          "name": "stdout",
          "text": [
            "DataFrame with cleaned_text column:\n"
          ]
        },
        {
          "output_type": "display_data",
          "data": {
            "text/plain": [
              "                                                text  \\\n",
              "0  Gimana mau percaya pak udah bbuuuanyak korban ...   \n",
              "1  Assalamualaikum Pak Presiden RI, Pak Prabowo S...   \n",
              "2  AKU YAKIN SEYAKIN YAKINNYA ! SEMUA INI ADA DAL...   \n",
              "3  Jangan turut berduka cita doang dengeken suara...   \n",
              "4  Coba pak presiden minta pak mahpud md ditugask...   \n",
              "\n",
              "                                        cleaned_text  \n",
              "0  gimana mau percaya pak udah bbuuuanyak korban ...  \n",
              "1  assalamualaikum pak presiden ri pak prabowo su...  \n",
              "2  aku yakin seyakin yakinnya semua ini ada dalan...  \n",
              "3  jangan turut berduka cita doang dengeken suara...  \n",
              "4  coba pak presiden minta pak mahpud md ditugask...  "
            ],
            "text/html": [
              "\n",
              "  <div id=\"df-5bb17894-fc33-4a8f-a0ee-9a8e6adb6454\" class=\"colab-df-container\">\n",
              "    <div>\n",
              "<style scoped>\n",
              "    .dataframe tbody tr th:only-of-type {\n",
              "        vertical-align: middle;\n",
              "    }\n",
              "\n",
              "    .dataframe tbody tr th {\n",
              "        vertical-align: top;\n",
              "    }\n",
              "\n",
              "    .dataframe thead th {\n",
              "        text-align: right;\n",
              "    }\n",
              "</style>\n",
              "<table border=\"1\" class=\"dataframe\">\n",
              "  <thead>\n",
              "    <tr style=\"text-align: right;\">\n",
              "      <th></th>\n",
              "      <th>text</th>\n",
              "      <th>cleaned_text</th>\n",
              "    </tr>\n",
              "  </thead>\n",
              "  <tbody>\n",
              "    <tr>\n",
              "      <th>0</th>\n",
              "      <td>Gimana mau percaya pak udah bbuuuanyak korban ...</td>\n",
              "      <td>gimana mau percaya pak udah bbuuuanyak korban ...</td>\n",
              "    </tr>\n",
              "    <tr>\n",
              "      <th>1</th>\n",
              "      <td>Assalamualaikum Pak Presiden RI, Pak Prabowo S...</td>\n",
              "      <td>assalamualaikum pak presiden ri pak prabowo su...</td>\n",
              "    </tr>\n",
              "    <tr>\n",
              "      <th>2</th>\n",
              "      <td>AKU YAKIN SEYAKIN YAKINNYA ! SEMUA INI ADA DAL...</td>\n",
              "      <td>aku yakin seyakin yakinnya semua ini ada dalan...</td>\n",
              "    </tr>\n",
              "    <tr>\n",
              "      <th>3</th>\n",
              "      <td>Jangan turut berduka cita doang dengeken suara...</td>\n",
              "      <td>jangan turut berduka cita doang dengeken suara...</td>\n",
              "    </tr>\n",
              "    <tr>\n",
              "      <th>4</th>\n",
              "      <td>Coba pak presiden minta pak mahpud md ditugask...</td>\n",
              "      <td>coba pak presiden minta pak mahpud md ditugask...</td>\n",
              "    </tr>\n",
              "  </tbody>\n",
              "</table>\n",
              "</div>\n",
              "    <div class=\"colab-df-buttons\">\n",
              "\n",
              "  <div class=\"colab-df-container\">\n",
              "    <button class=\"colab-df-convert\" onclick=\"convertToInteractive('df-5bb17894-fc33-4a8f-a0ee-9a8e6adb6454')\"\n",
              "            title=\"Convert this dataframe to an interactive table.\"\n",
              "            style=\"display:none;\">\n",
              "\n",
              "  <svg xmlns=\"http://www.w3.org/2000/svg\" height=\"24px\" viewBox=\"0 -960 960 960\">\n",
              "    <path d=\"M120-120v-720h720v720H120Zm60-500h600v-160H180v160Zm220 220h160v-160H400v160Zm0 220h160v-160H400v160ZM180-400h160v-160H180v160Zm440 0h160v-160H620v160ZM180-180h160v-160H180v160Zm440 0h160v-160H620v160Z\"/>\n",
              "  </svg>\n",
              "    </button>\n",
              "\n",
              "  <style>\n",
              "    .colab-df-container {\n",
              "      display:flex;\n",
              "      gap: 12px;\n",
              "    }\n",
              "\n",
              "    .colab-df-convert {\n",
              "      background-color: #E8F0FE;\n",
              "      border: none;\n",
              "      border-radius: 50%;\n",
              "      cursor: pointer;\n",
              "      display: none;\n",
              "      fill: #1967D2;\n",
              "      height: 32px;\n",
              "      padding: 0 0 0 0;\n",
              "      width: 32px;\n",
              "    }\n",
              "\n",
              "    .colab-df-convert:hover {\n",
              "      background-color: #E2EBFA;\n",
              "      box-shadow: 0px 1px 2px rgba(60, 64, 67, 0.3), 0px 1px 3px 1px rgba(60, 64, 67, 0.15);\n",
              "      fill: #174EA6;\n",
              "    }\n",
              "\n",
              "    .colab-df-buttons div {\n",
              "      margin-bottom: 4px;\n",
              "    }\n",
              "\n",
              "    [theme=dark] .colab-df-convert {\n",
              "      background-color: #3B4455;\n",
              "      fill: #D2E3FC;\n",
              "    }\n",
              "\n",
              "    [theme=dark] .colab-df-convert:hover {\n",
              "      background-color: #434B5C;\n",
              "      box-shadow: 0px 1px 3px 1px rgba(0, 0, 0, 0.15);\n",
              "      filter: drop-shadow(0px 1px 2px rgba(0, 0, 0, 0.3));\n",
              "      fill: #FFFFFF;\n",
              "    }\n",
              "  </style>\n",
              "\n",
              "    <script>\n",
              "      const buttonEl =\n",
              "        document.querySelector('#df-5bb17894-fc33-4a8f-a0ee-9a8e6adb6454 button.colab-df-convert');\n",
              "      buttonEl.style.display =\n",
              "        google.colab.kernel.accessAllowed ? 'block' : 'none';\n",
              "\n",
              "      async function convertToInteractive(key) {\n",
              "        const element = document.querySelector('#df-5bb17894-fc33-4a8f-a0ee-9a8e6adb6454');\n",
              "        const dataTable =\n",
              "          await google.colab.kernel.invokeFunction('convertToInteractive',\n",
              "                                                    [key], {});\n",
              "        if (!dataTable) return;\n",
              "\n",
              "        const docLinkHtml = 'Like what you see? Visit the ' +\n",
              "          '<a target=\"_blank\" href=https://colab.research.google.com/notebooks/data_table.ipynb>data table notebook</a>'\n",
              "          + ' to learn more about interactive tables.';\n",
              "        element.innerHTML = '';\n",
              "        dataTable['output_type'] = 'display_data';\n",
              "        await google.colab.output.renderOutput(dataTable, element);\n",
              "        const docLink = document.createElement('div');\n",
              "        docLink.innerHTML = docLinkHtml;\n",
              "        element.appendChild(docLink);\n",
              "      }\n",
              "    </script>\n",
              "  </div>\n",
              "\n",
              "\n",
              "    <div id=\"df-10771dff-dc60-46aa-b4f4-73421f927b92\">\n",
              "      <button class=\"colab-df-quickchart\" onclick=\"quickchart('df-10771dff-dc60-46aa-b4f4-73421f927b92')\"\n",
              "                title=\"Suggest charts\"\n",
              "                style=\"display:none;\">\n",
              "\n",
              "<svg xmlns=\"http://www.w3.org/2000/svg\" height=\"24px\"viewBox=\"0 0 24 24\"\n",
              "     width=\"24px\">\n",
              "    <g>\n",
              "        <path d=\"M19 3H5c-1.1 0-2 .9-2 2v14c0 1.1.9 2 2 2h14c1.1 0 2-.9 2-2V5c0-1.1-.9-2-2-2zM9 17H7v-7h2v7zm4 0h-2V7h2v10zm4 0h-2v-4h2v4z\"/>\n",
              "    </g>\n",
              "</svg>\n",
              "      </button>\n",
              "\n",
              "<style>\n",
              "  .colab-df-quickchart {\n",
              "      --bg-color: #E8F0FE;\n",
              "      --fill-color: #1967D2;\n",
              "      --hover-bg-color: #E2EBFA;\n",
              "      --hover-fill-color: #174EA6;\n",
              "      --disabled-fill-color: #AAA;\n",
              "      --disabled-bg-color: #DDD;\n",
              "  }\n",
              "\n",
              "  [theme=dark] .colab-df-quickchart {\n",
              "      --bg-color: #3B4455;\n",
              "      --fill-color: #D2E3FC;\n",
              "      --hover-bg-color: #434B5C;\n",
              "      --hover-fill-color: #FFFFFF;\n",
              "      --disabled-bg-color: #3B4455;\n",
              "      --disabled-fill-color: #666;\n",
              "  }\n",
              "\n",
              "  .colab-df-quickchart {\n",
              "    background-color: var(--bg-color);\n",
              "    border: none;\n",
              "    border-radius: 50%;\n",
              "    cursor: pointer;\n",
              "    display: none;\n",
              "    fill: var(--fill-color);\n",
              "    height: 32px;\n",
              "    padding: 0;\n",
              "    width: 32px;\n",
              "  }\n",
              "\n",
              "  .colab-df-quickchart:hover {\n",
              "    background-color: var(--hover-bg-color);\n",
              "    box-shadow: 0 1px 2px rgba(60, 64, 67, 0.3), 0 1px 3px 1px rgba(60, 64, 67, 0.15);\n",
              "    fill: var(--button-hover-fill-color);\n",
              "  }\n",
              "\n",
              "  .colab-df-quickchart-complete:disabled,\n",
              "  .colab-df-quickchart-complete:disabled:hover {\n",
              "    background-color: var(--disabled-bg-color);\n",
              "    fill: var(--disabled-fill-color);\n",
              "    box-shadow: none;\n",
              "  }\n",
              "\n",
              "  .colab-df-spinner {\n",
              "    border: 2px solid var(--fill-color);\n",
              "    border-color: transparent;\n",
              "    border-bottom-color: var(--fill-color);\n",
              "    animation:\n",
              "      spin 1s steps(1) infinite;\n",
              "  }\n",
              "\n",
              "  @keyframes spin {\n",
              "    0% {\n",
              "      border-color: transparent;\n",
              "      border-bottom-color: var(--fill-color);\n",
              "      border-left-color: var(--fill-color);\n",
              "    }\n",
              "    20% {\n",
              "      border-color: transparent;\n",
              "      border-left-color: var(--fill-color);\n",
              "      border-top-color: var(--fill-color);\n",
              "    }\n",
              "    30% {\n",
              "      border-color: transparent;\n",
              "      border-left-color: var(--fill-color);\n",
              "      border-top-color: var(--fill-color);\n",
              "      border-right-color: var(--fill-color);\n",
              "    }\n",
              "    40% {\n",
              "      border-color: transparent;\n",
              "      border-right-color: var(--fill-color);\n",
              "      border-top-color: var(--fill-color);\n",
              "    }\n",
              "    60% {\n",
              "      border-color: transparent;\n",
              "      border-right-color: var(--fill-color);\n",
              "    }\n",
              "    80% {\n",
              "      border-color: transparent;\n",
              "      border-right-color: var(--fill-color);\n",
              "      border-bottom-color: var(--fill-color);\n",
              "    }\n",
              "    90% {\n",
              "      border-color: transparent;\n",
              "      border-bottom-color: var(--fill-color);\n",
              "    }\n",
              "  }\n",
              "</style>\n",
              "\n",
              "      <script>\n",
              "        async function quickchart(key) {\n",
              "          const quickchartButtonEl =\n",
              "            document.querySelector('#' + key + ' button');\n",
              "          quickchartButtonEl.disabled = true;  // To prevent multiple clicks.\n",
              "          quickchartButtonEl.classList.add('colab-df-spinner');\n",
              "          try {\n",
              "            const charts = await google.colab.kernel.invokeFunction(\n",
              "                'suggestCharts', [key], {});\n",
              "          } catch (error) {\n",
              "            console.error('Error during call to suggestCharts:', error);\n",
              "          }\n",
              "          quickchartButtonEl.classList.remove('colab-df-spinner');\n",
              "          quickchartButtonEl.classList.add('colab-df-quickchart-complete');\n",
              "        }\n",
              "        (() => {\n",
              "          let quickchartButtonEl =\n",
              "            document.querySelector('#df-10771dff-dc60-46aa-b4f4-73421f927b92 button');\n",
              "          quickchartButtonEl.style.display =\n",
              "            google.colab.kernel.accessAllowed ? 'block' : 'none';\n",
              "        })();\n",
              "      </script>\n",
              "    </div>\n",
              "\n",
              "    </div>\n",
              "  </div>\n"
            ],
            "application/vnd.google.colaboratory.intrinsic+json": {
              "type": "dataframe",
              "summary": "{\n  \"name\": \"display(comments_df[['text', 'cleaned_text']]\",\n  \"rows\": 5,\n  \"fields\": [\n    {\n      \"column\": \"text\",\n      \"properties\": {\n        \"dtype\": \"string\",\n        \"num_unique_values\": 5,\n        \"samples\": [\n          \"Assalamualaikum Pak Presiden RI, Pak Prabowo Subianto, salam hormat Pak\\n\\nPerkenalkan Nama Saya Akbar Dari SulSel Kota Makassar Tepatnya Di Kabupaten Gowa Kecamatan Barombong Desa Kanjilo\\n\\nIjin menyampaikan Aspirasi Pak\\n\\nAtas Nama Rakyat INDONESIA Saya Ijin Menyampaikan Aspirasi Terkait Program 3jt Perumahan, Bilkhusus Di Kabupaten Gowa Kecamatan Barombong Desa Kanjilo, Program Tersebut Belum Terevaluasi Pak, Sedangkan Angka Kemiskinan Masyarakat Yang Belum Punya Rumah Sangat Nyata Terpampang Di Depan Mata Pak\\n\\nMaka Dari Itu Dengan Penuh Rasa Hormat, Tolong Pak, Tegaskan Hal Tersebut Kepada Para Jajarannya Di Tingkat Provinsi, Kabupaten, Kecamatan, Dan Disetiap Desa-Desa Yang Ada Di Provinsi SulSel Kota Makassar Khusnya Di Kabupaten Gowa, Kecamatan Barombong, Desa Kanjilo Terkait Program 3jt Perumahan Tersebut Pak, Dikarenakan Banyak Warga Yang Layak Menerima Subsidi Perumahan Tersebut Pak Menurut Data-Data Yang Ada Di Lapangan Pak\\n\\n#Semoga Pak Presiden Bisa Menanggapi Hal Ini Kami Sangat Berharap Pak\\n\\nAssalamualaikum wr.wb....\",\n          \"Coba pak presiden minta pak mahpud md ditugaskan lagi,...dan bisa membantu bapak dalam memberantas korupsi...Merdeka pak\\nhttps://youtu.be/JoWdAF4w6Qc?si=2UCsvIneckwdu7cQ\",\n          \"AKU YAKIN SEYAKIN YAKINNYA ! SEMUA INI ADA DALANGNYA  DAN AQ YAKI  DALANGNYA ADALAH PEMILI YABG SAKIT HATI KARENA KALAH.A Q YAKIN ITU . TAPI SAY TIDAK MENUDUH  .SAYA HANYA MEYAKINKAN DIRI SAYA SENDIRI .!\\n#SEMANGAT OAK PRABOWO  SEMOGA INDONESIA LEBIH MAJJU.!\"\n        ],\n        \"semantic_type\": \"\",\n        \"description\": \"\"\n      }\n    },\n    {\n      \"column\": \"cleaned_text\",\n      \"properties\": {\n        \"dtype\": \"string\",\n        \"num_unique_values\": 5,\n        \"samples\": [\n          \"assalamualaikum pak presiden ri pak prabowo subianto salam hormat pak perkenalkan nama saya akbar dari sulsel kota makassar tepatnya di kabupaten gowa kecamatan barombong desa kanjilo ijin menyampaikan aspirasi pak atas nama rakyat indonesia saya ijin menyampaikan aspirasi terkait program jt perumahan bilkhusus di kabupaten gowa kecamatan barombong desa kanjilo program tersebut belum terevaluasi pak sedangkan angka kemiskinan masyarakat yang belum punya rumah sangat nyata terpampang di depan mata pak maka dari itu dengan penuh rasa hormat tolong pak tegaskan hal tersebut kepada para jajarannya di tingkat provinsi kabupaten kecamatan dan disetiap desadesa yang ada di provinsi sulsel kota makassar khusnya di kabupaten gowa kecamatan barombong desa kanjilo terkait program jt perumahan tersebut pak dikarenakan banyak warga yang layak menerima subsidi perumahan tersebut pak menurut datadata yang ada di lapangan pak semoga pak presiden bisa menanggapi hal ini kami sangat berharap pak assalamualaikum wrwb\",\n          \"coba pak presiden minta pak mahpud md ditugaskan lagidan bisa membantu bapak dalam memberantas korupsimerdeka pak\",\n          \"aku yakin seyakin yakinnya semua ini ada dalangnya dan aq yaki dalangnya adalah pemili yabg sakit hati karena kalaha q yakin itu tapi say tidak menuduh saya hanya meyakinkan diri saya sendiri semangat oak prabowo semoga indonesia lebih majju\"\n        ],\n        \"semantic_type\": \"\",\n        \"description\": \"\"\n      }\n    }\n  ]\n}"
            }
          },
          "metadata": {}
        }
      ]
    },
    {
      "cell_type": "code",
      "metadata": {
        "colab": {
          "base_uri": "https://localhost:8080/"
        },
        "id": "8f4eabd1",
        "outputId": "fa75b712-dc3f-46c4-92fd-7f70757c0dbe"
      },
      "source": [
        "print(\"Current data types:\")\n",
        "print(comments_df.info())"
      ],
      "execution_count": 8,
      "outputs": [
        {
          "output_type": "stream",
          "name": "stdout",
          "text": [
            "Current data types:\n",
            "<class 'pandas.core.frame.DataFrame'>\n",
            "Index: 22537 entries, 0 to 22543\n",
            "Data columns (total 6 columns):\n",
            " #   Column        Non-Null Count  Dtype \n",
            "---  ------        --------------  ----- \n",
            " 0   author        22537 non-null  object\n",
            " 1   published_at  22537 non-null  object\n",
            " 2   text          22537 non-null  object\n",
            " 3   video_id      22537 non-null  object\n",
            " 4   video_title   22537 non-null  object\n",
            " 5   cleaned_text  22537 non-null  object\n",
            "dtypes: object(6)\n",
            "memory usage: 1.2+ MB\n",
            "None\n"
          ]
        }
      ]
    },
    {
      "cell_type": "code",
      "metadata": {
        "colab": {
          "base_uri": "https://localhost:8080/"
        },
        "id": "cEzOwTsAj_Rp",
        "outputId": "8c230d36-4f50-4436-ba32-a9ab123bb19e"
      },
      "source": [
        "import pandas as pd\n",
        "\n",
        "comments_df['published_at'] = pd.to_datetime(comments_df['published_at'])\n",
        "\n",
        "print(\"\\nData types after converting 'published_at':\")\n",
        "print(comments_df.info())"
      ],
      "execution_count": 9,
      "outputs": [
        {
          "output_type": "stream",
          "name": "stdout",
          "text": [
            "\n",
            "Data types after converting 'published_at':\n",
            "<class 'pandas.core.frame.DataFrame'>\n",
            "Index: 22537 entries, 0 to 22543\n",
            "Data columns (total 6 columns):\n",
            " #   Column        Non-Null Count  Dtype              \n",
            "---  ------        --------------  -----              \n",
            " 0   author        22537 non-null  object             \n",
            " 1   published_at  22537 non-null  datetime64[ns, UTC]\n",
            " 2   text          22537 non-null  object             \n",
            " 3   video_id      22537 non-null  object             \n",
            " 4   video_title   22537 non-null  object             \n",
            " 5   cleaned_text  22537 non-null  object             \n",
            "dtypes: datetime64[ns, UTC](1), object(5)\n",
            "memory usage: 1.2+ MB\n",
            "None\n"
          ]
        }
      ]
    },
    {
      "cell_type": "code",
      "source": [
        "from sklearn.model_selection import train_test_split\n",
        "\n",
        "inference_df, training_df = train_test_split(comments_df['cleaned_text'], test_size=0.25, random_state=42)\n",
        "print(f\"Training set size: {len(training_df)}\")\n",
        "print(f\"Inference set size: {len(inference_df)}\")"
      ],
      "metadata": {
        "colab": {
          "base_uri": "https://localhost:8080/"
        },
        "id": "6Twjl2oYk9T4",
        "outputId": "93e92619-3411-43a7-dbc2-e157af251b81"
      },
      "execution_count": 10,
      "outputs": [
        {
          "output_type": "stream",
          "name": "stdout",
          "text": [
            "Training set size: 5635\n",
            "Inference set size: 16902\n"
          ]
        }
      ]
    },
    {
      "cell_type": "code",
      "source": [
        "import os\n",
        "from civic_sentiment.config import PROCESSED_DATA_DIR\n",
        "\n",
        "# Create the processed data directory if it doesn't exist\n",
        "os.makedirs(PROCESSED_DATA_DIR, exist_ok=True)\n",
        "\n",
        "# Save the cleaned DataFrame to a CSV file in the processed directory\n",
        "cleaned_output_path = PROCESSED_DATA_DIR / \"cleaned_comments.csv\"\n",
        "if not comments_df.empty:\n",
        "    comments_df.to_csv(cleaned_output_path, index=False)\n",
        "    print(f\"💾 Cleaned comments saved to {cleaned_output_path}\")\n",
        "    print(f\"📁 File size: {cleaned_output_path.stat().st_size / 1024:.1f} KB\")\n",
        "else:\n",
        "    print(\"⚠️ No cleaned data to save - comments DataFrame is empty\")\n",
        "\n",
        "# Save the training DataFrame to a CSV file in the processed directory\n",
        "training_output_path = PROCESSED_DATA_DIR / \"training_comments.csv\"\n",
        "if not training_df.empty:\n",
        "    training_df.to_csv(training_output_path, index=False)\n",
        "    print(f\"💾 Training comments saved to {training_output_path}\")\n",
        "    print(f\"📁 File size: {training_output_path.stat().st_size / 1024:.1f} KB\")\n",
        "else:\n",
        "    print(\"⚠️ No training data to save - training DataFrame is empty\")\n",
        "\n",
        "# Save the inference DataFrame to a CSV file in the processed directory\n",
        "inference_output_path = PROCESSED_DATA_DIR / \"inference_comments.csv\"\n",
        "if not inference_df.empty:\n",
        "    inference_df.to_csv(inference_output_path, index=False)\n",
        "    print(f\"💾 Inference comments saved to {inference_output_path}\")\n",
        "    print(f\"📁 File size: {inference_output_path.stat().st_size / 1024:.1f} KB\")\n",
        "else:\n",
        "    print(\"⚠️ No inference data to save - inference DataFrame is empty\")\n",
        "\n",
        "# Show a preview of what was saved\n",
        "print(f\"\\n📋 Data saved includes:\")\n",
        "print(f\"  • {len(comments_df)} total cleaned comments\")\n",
        "print(f\"  • {len(training_df)} training comments\")\n",
        "print(f\"  • {len(inference_df)} inference comments\")\n",
        "print(f\"  • Columns: {', '.join(comments_df.columns)}\")"
      ],
      "metadata": {
        "colab": {
          "base_uri": "https://localhost:8080/"
        },
        "id": "Q9XmyMSclH8s",
        "outputId": "c8c2526d-dd56-4273-b985-18ed34690716"
      },
      "execution_count": 11,
      "outputs": [
        {
          "output_type": "stream",
          "name": "stdout",
          "text": [
            "💾 Cleaned comments saved to /content/civic_sentiment/data/processed/cleaned_comments.csv\n",
            "📁 File size: 9135.1 KB\n",
            "💾 Training comments saved to /content/civic_sentiment/data/processed/training_comments.csv\n",
            "📁 File size: 859.6 KB\n",
            "💾 Inference comments saved to /content/civic_sentiment/data/processed/inference_comments.csv\n",
            "📁 File size: 2378.1 KB\n",
            "\n",
            "📋 Data saved includes:\n",
            "  • 22537 total cleaned comments\n",
            "  • 5635 training comments\n",
            "  • 16902 inference comments\n",
            "  • Columns: author, published_at, text, video_id, video_title, cleaned_text\n"
          ]
        }
      ]
    },
    {
      "cell_type": "markdown",
      "metadata": {
        "id": "0567b17b"
      },
      "source": [
        "We'll check for and remove any rows that are exactly the same in our DataFrame. This helps keep our data tidy and reliable! 👇"
      ]
    },
    {
      "cell_type": "markdown",
      "metadata": {
        "id": "42e4fbca"
      },
      "source": [
        "Next up, cleaning the text data! 🧼 We'll process the text in our comments to remove any messy characters, symbols, and maybe even simplify words to get them ready for analysis."
      ]
    },
    {
      "cell_type": "markdown",
      "metadata": {
        "id": "ec5a81a8"
      },
      "source": [
        "I'll create a function to handle all that text cleaning magic and then apply it to our 'text' column. This will give us a nice, clean version of the comments to work with! ✨"
      ]
    },
    {
      "cell_type": "markdown",
      "metadata": {
        "id": "9bbe1706"
      },
      "source": [
        "Time to make sure our columns have the right kind of data in them for smooth analysis! 🔄 For example, we'll turn the 'published_at' column into proper date and time objects so we can work with timestamps easily."
      ]
    },
    {
      "cell_type": "markdown",
      "metadata": {
        "id": "3a1dfa89"
      },
      "source": [
        "Let's take a peek at the current types of data in our DataFrame columns to see what we're working with before we standardize. 👇"
      ]
    },
    {
      "cell_type": "markdown",
      "metadata": {
        "id": "d7ba9f1d"
      },
      "source": [
        "Alright, now I'll convert the 'published_at' column into datetime objects. After that, we'll check the data types again to make sure the conversion worked! 👍"
      ]
    },
    {
      "cell_type": "markdown",
      "metadata": {
        "id": "3eddd5a7"
      },
      "source": [
        "Looks like the previous command hit a snag because pandas wasn't imported yet. My bad! 😅 I need to make sure I import pandas before trying to convert that column to datetime objects. Let's fix that! 👇"
      ]
    }
  ],
  "metadata": {
    "kernelspec": {
      "display_name": "Python 3",
      "language": "python",
      "name": "python3"
    },
    "language_info": {
      "codemirror_mode": {
        "name": "ipython",
        "version": 3
      },
      "file_extension": ".py",
      "mimetype": "text/x-python",
      "name": "python",
      "nbconvert_exporter": "python",
      "pygments_lexer": "ipython3",
      "version": "3.12.0"
    },
    "colab": {
      "provenance": []
    }
  },
  "nbformat": 4,
  "nbformat_minor": 0
}