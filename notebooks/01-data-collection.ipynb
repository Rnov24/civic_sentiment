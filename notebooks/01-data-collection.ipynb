{
  "cells": [
    {
      "cell_type": "markdown",
      "metadata": {
        "id": "view-in-github",
        "colab_type": "text"
      },
      "source": [
        "<a href=\"https://colab.research.google.com/github/Rnov24/civic_sentiment/blob/master/notebooks/01-data-collection.ipynb\" target=\"_parent\"><img src=\"https://colab.research.google.com/assets/colab-badge.svg\" alt=\"Open In Colab\"/></a>"
      ]
    },
    {
      "cell_type": "markdown",
      "metadata": {
        "id": "XI5PmxxscoNt"
      },
      "source": [
        "# Data Collection Notebook"
      ]
    },
    {
      "cell_type": "markdown",
      "metadata": {
        "id": "0p3i7U1jcoNw"
      },
      "source": [
        "Hey there! 👋 This notebook is for collecting YouTube comments data and splitting it into training and inference datasets. I'll be scraping comments from some videos that are relevant to current political situations."
      ]
    },
    {
      "cell_type": "markdown",
      "metadata": {
        "id": "F4HQEeB-coNw"
      },
      "source": [
        "## 1. Environment Setup"
      ]
    },
    {
      "cell_type": "markdown",
      "metadata": {
        "id": "t9GREvi7coNx"
      },
      "source": [
        "Since I'm using Colab to run this notebook, I need to set up the environment first. I'll clone my GitHub repo and install the required dependencies."
      ]
    },
    {
      "cell_type": "code",
      "execution_count": 1,
      "metadata": {
        "colab": {
          "base_uri": "https://localhost:8080/"
        },
        "id": "3dY9sJaUcoNx",
        "outputId": "02dd3e1b-8ed9-4154-a68d-272b7d45e10d"
      },
      "outputs": [
        {
          "output_type": "stream",
          "name": "stdout",
          "text": [
            "Already up to date.\n"
          ]
        },
        {
          "output_type": "stream",
          "name": "stderr",
          "text": [
            "\u001b[32m2025-09-07 03:13:20.439\u001b[0m | \u001b[1mINFO    \u001b[0m | \u001b[36mcivic_sentiment.config\u001b[0m:\u001b[36m<module>\u001b[0m:\u001b[36m22\u001b[0m - \u001b[1mPROJ_ROOT path is: /content/civic_sentiment\u001b[0m\n"
          ]
        },
        {
          "output_type": "stream",
          "name": "stdout",
          "text": [
            "\n",
            "Environment setup complete!\n",
            "Raw data directory: /content/civic_sentiment/data/raw\n",
            "✅ Git is now configured for commits!\n"
          ]
        }
      ],
      "source": [
        "import os\n",
        "from pathlib import Path\n",
        "import toml\n",
        "import sys\n",
        "import subprocess\n",
        "\n",
        "# --- 1. Clone your GitHub repository ---\n",
        "repo_url = \"https://github.com/rnov24/civic_sentiment.git\"\n",
        "repo_name = \"civic_sentiment\"  # Should match the PROJ_ROOT in config.py\n",
        "clone_path = Path(\"/content\") / repo_name\n",
        "\n",
        "if not clone_path.exists():\n",
        "    subprocess.run([\"git\", \"clone\", repo_url, str(clone_path)], check=True)\n",
        "else:\n",
        "    print(\"Repository already cloned.\")\n",
        "\n",
        "# --- 2. Configure Git for Colab (IMPORTANT!) ---\n",
        "# This is needed to be able to commit in Colab\n",
        "subprocess.run([\"git\", \"config\", \"--global\", \"user.name\", \"rnov24\"], check=True)\n",
        "subprocess.run([\"git\", \"config\", \"--global\", \"user.email\", \"rnov24@users.noreply.github.com\"], check=True)\n",
        "\n",
        "# --- 3. Install project dependencies ---\n",
        "sys.path.append(str(clone_path))\n",
        "pyproject_path = clone_path / \"pyproject.toml\"\n",
        "\n",
        "with open(pyproject_path, \"r\") as f:\n",
        "    pyproject = toml.load(f)\n",
        "\n",
        "dependencies = pyproject[\"project\"][\"dependencies\"]\n",
        "subprocess.run([\"pip\", \"install\"] + dependencies, check=True)\n",
        "\n",
        "!cd /content/civic_sentiment && git pull\n",
        "\n",
        "# --- 4. Now you can import your project modules ---\n",
        "# The PROJ_ROOT in config.py is now correctly set to /content/civic_sentiment\n",
        "from civic_sentiment.config import RAW_DATA_DIR\n",
        "\n",
        "print(\"\\nEnvironment setup complete!\")\n",
        "print(f\"Raw data directory: {RAW_DATA_DIR}\")\n",
        "print(\"✅ Git is now configured for commits!\")"
      ]
    },
    {
      "cell_type": "markdown",
      "metadata": {
        "id": "dZC2rWndcoNy"
      },
      "source": [
        "## 2. Scrape YouTube Comments\n",
        "\n",
        "I have 4 videos that I want to scrape comments from. These are the videos I chose because they're super relevant to current political situations:\n",
        "\n",
        "1. **Pernyataan Presiden Prabowo, 29 Agustus 2025** (LJ8yd0uRvwY) - This is President Prabowo's first official statement after the demonstrations, uploaded the same night after the incident where Affan Kurniawan was hit by a police tactical vehicle.\n",
        "\n",
        "2. **LIVE: Keterangan Pers Presiden Prabowo, Istana Merdeka, 31 Agustus 2025** (oOf1b1P6fGc) - President Prabowo's official statement with the Speaker of Parliament, 5th President Megawati, Speaker of the People's Consultative Assembly, and representatives from majority political parties.\n",
        "\n",
        "3. **BREAKING NEWS - PIMPINAN DPR RI MENERIMA PERWAKILAN MAHASISWA** (3Lz8PnFvjhs) - This video contains info about the reception of student representatives for an audience to express their aspirations at the DPR RI building. These aspirations became the foundation for the 17+8 demands formulated by Andovi et al.\n",
        "\n",
        "4. **BREAKING NEWS - KONFERENSI PERS DPR RI MENJAWAB TUNTUTAN 17+8** (I9peHTC9g3o) - DPR RI's statement about the people's revolutionary demands \"17+8\".\n",
        "\n",
        "*Note: 2 of these videos are live streams, but I'm not scraping the live chat because it's too massive and I can't handle it by myself 😅*"
      ]
    },
    {
      "cell_type": "code",
      "execution_count": 2,
      "metadata": {
        "colab": {
          "base_uri": "https://localhost:8080/"
        },
        "id": "3bkHgQ95coNz",
        "outputId": "9839bbef-2223-4a9b-f14f-37a9f6b19205"
      },
      "outputs": [
        {
          "output_type": "stream",
          "name": "stdout",
          "text": [
            "Scraping comments from 4 videos...\n",
            "\u001b[32m2025-09-07 03:13:22.581\u001b[0m | \u001b[1mINFO    \u001b[0m | \u001b[36mcivic_sentiment.scraping\u001b[0m:\u001b[36mscrape_videos\u001b[0m:\u001b[36m76\u001b[0m - \u001b[1mScraping comments from: Pernyataan Presiden Prabowo, 29 Agustus 2025\u001b[0m\n"
          ]
        },
        {
          "output_type": "stream",
          "name": "stderr",
          "text": []
        },
        {
          "output_type": "stream",
          "name": "stdout",
          "text": [
            "\u001b[32m2025-09-07 03:13:46.868\u001b[0m | \u001b[1mINFO    \u001b[0m | \u001b[36mcivic_sentiment.scraping\u001b[0m:\u001b[36mscrape_videos\u001b[0m:\u001b[36m120\u001b[0m - \u001b[1mCollected 11209 comments from Pernyataan Presiden Prabowo, 29 Agustus 2025\u001b[0m\n",
            "\u001b[32m2025-09-07 03:13:46.960\u001b[0m | \u001b[1mINFO    \u001b[0m | \u001b[36mcivic_sentiment.scraping\u001b[0m:\u001b[36mscrape_videos\u001b[0m:\u001b[36m76\u001b[0m - \u001b[1mScraping comments from: LIVE: Keterangan Pers Presiden Prabowo, Istana Merdeka, 31 Agustus 2025\u001b[0m\n"
          ]
        },
        {
          "output_type": "stream",
          "name": "stderr",
          "text": []
        },
        {
          "output_type": "stream",
          "name": "stdout",
          "text": [
            "\u001b[32m2025-09-07 03:14:07.290\u001b[0m | \u001b[1mINFO    \u001b[0m | \u001b[36mcivic_sentiment.scraping\u001b[0m:\u001b[36mscrape_videos\u001b[0m:\u001b[36m120\u001b[0m - \u001b[1mCollected 9909 comments from LIVE: Keterangan Pers Presiden Prabowo, Istana Merdeka, 31 Agustus 2025\u001b[0m\n",
            "\u001b[32m2025-09-07 03:14:07.386\u001b[0m | \u001b[1mINFO    \u001b[0m | \u001b[36mcivic_sentiment.scraping\u001b[0m:\u001b[36mscrape_videos\u001b[0m:\u001b[36m76\u001b[0m - \u001b[1mScraping comments from: BREAKING NEWS - KONFERENSI PERS DPR RI MENJAWAB TUNTUTAN 17+8\u001b[0m\n"
          ]
        },
        {
          "output_type": "stream",
          "name": "stderr",
          "text": []
        },
        {
          "output_type": "stream",
          "name": "stdout",
          "text": [
            "\u001b[32m2025-09-07 03:14:09.882\u001b[0m | \u001b[1mINFO    \u001b[0m | \u001b[36mcivic_sentiment.scraping\u001b[0m:\u001b[36mscrape_videos\u001b[0m:\u001b[36m120\u001b[0m - \u001b[1mCollected 1147 comments from BREAKING NEWS - KONFERENSI PERS DPR RI MENJAWAB TUNTUTAN 17+8\u001b[0m\n",
            "\u001b[32m2025-09-07 03:14:09.981\u001b[0m | \u001b[1mINFO    \u001b[0m | \u001b[36mcivic_sentiment.scraping\u001b[0m:\u001b[36mscrape_videos\u001b[0m:\u001b[36m76\u001b[0m - \u001b[1mScraping comments from: BREAKING NEWS - PIMPINAN DPR RI MENERIMA PERWAKILAN MAHASISWA\u001b[0m\n"
          ]
        },
        {
          "output_type": "stream",
          "name": "stderr",
          "text": [
            "                                                                                                "
          ]
        },
        {
          "output_type": "stream",
          "name": "stdout",
          "text": [
            "\u001b[32m2025-09-07 03:14:10.695\u001b[0m | \u001b[1mINFO    \u001b[0m | \u001b[36mcivic_sentiment.scraping\u001b[0m:\u001b[36mscrape_videos\u001b[0m:\u001b[36m120\u001b[0m - \u001b[1mCollected 306 comments from BREAKING NEWS - PIMPINAN DPR RI MENERIMA PERWAKILAN MAHASISWA\u001b[0m\n",
            "\n",
            "✅ Found 22571 comments from 4 videos.\n",
            "\n",
            "📺 Videos processed:\n",
            "  • LJ8yd0uRvwY: Pernyataan Presiden Prabowo, 29 Agustus 2025\n",
            "  • oOf1b1P6fGc: LIVE: Keterangan Pers Presiden Prabowo, Istana Merdeka, 31 Agustus 2025\n",
            "  • I9peHTC9g3o: BREAKING NEWS - KONFERENSI PERS DPR RI MENJAWAB TUNTUTAN 17+8\n",
            "  • 3Lz8PnFvjhs: BREAKING NEWS - PIMPINAN DPR RI MENERIMA PERWAKILAN MAHASISWA\n"
          ]
        },
        {
          "output_type": "stream",
          "name": "stderr",
          "text": [
            "\r"
          ]
        }
      ],
      "source": [
        "from civic_sentiment.scraping import scrape_videos\n",
        "import os\n",
        "from google.colab import userdata\n",
        "\n",
        "# Get the API key from the colab secrets\n",
        "API_KEY = userdata.get('YOUTUBE_API_KEY')\n",
        "\n",
        "video_ids = [\n",
        "    \"LJ8yd0uRvwY\",\n",
        "    \"oOf1b1P6fGc\",\n",
        "    \"I9peHTC9g3o\",\n",
        "    \"3Lz8PnFvjhs\"\n",
        "]\n",
        "\n",
        "if API_KEY:\n",
        "    print(f\"Scraping comments from {len(video_ids)} videos...\")\n",
        "    comments_df = scrape_videos(API_KEY, video_ids)\n",
        "    print(f\"\\n✅ Found {len(comments_df)} comments from {comments_df['video_id'].nunique()} videos.\")\n",
        "\n",
        "    # Display video titles that were scraped\n",
        "    if not comments_df.empty:\n",
        "        print(\"\\n📺 Videos processed:\")\n",
        "        for video_id, title in comments_df[['video_id', 'video_title']].drop_duplicates().values:\n",
        "            print(f\"  • {video_id}: {title}\")\n",
        "else:\n",
        "    print(\"❌ YOUTUBE_API_KEY environment variable not set.\")\n",
        "    print(\"Please set your YouTube Data API key either:\")\n",
        "    print(\"1. As an environment variable: export YOUTUBE_API_KEY=your_key\")\n",
        "    print(\"2. Or modify the API_KEY variable in this cell\")"
      ]
    },
    {
      "cell_type": "markdown",
      "metadata": {
        "id": "iBojRx6C1i9b"
      },
      "source": [
        "### Scraping Results\n",
        "\n",
        "Alright, now let me check the scraping results. I'll see how many comments I successfully collected from each video.\n"
      ]
    },
    {
      "cell_type": "code",
      "execution_count": 3,
      "metadata": {
        "colab": {
          "base_uri": "https://localhost:8080/",
          "height": 553
        },
        "id": "lgNZqcuUcoN0",
        "outputId": "a5e13f09-07b0-446d-fa91-3b29c1a7f6cb"
      },
      "outputs": [
        {
          "output_type": "stream",
          "name": "stdout",
          "text": [
            "📊 Sample of scraped comments:\n",
            "Columns: ['author', 'published_at', 'text', 'video_id', 'video_title']\n",
            "Shape: (22571, 5)\n",
            "\n",
            "First 5 comments:\n"
          ]
        },
        {
          "output_type": "display_data",
          "data": {
            "text/plain": [
              "                   author          published_at  \\\n",
              "0  @SHOFAHIDAYATULILMIYAH  2025-09-06T04:21:29Z   \n",
              "1         @AkbarPutra-m2z  2025-09-05T22:29:54Z   \n",
              "2             @REZANGAPAK  2025-09-05T14:41:42Z   \n",
              "3     @riskaindriyani8418  2025-09-05T12:46:09Z   \n",
              "4           @ErikMuhdani8  2025-09-04T16:54:55Z   \n",
              "\n",
              "                                                text     video_id  \\\n",
              "0  Gimana mau percaya pak udah bbuuuanyak korban ...  LJ8yd0uRvwY   \n",
              "1  Assalamualaikum Pak Presiden RI, Pak Prabowo S...  LJ8yd0uRvwY   \n",
              "2  AKU YAKIN SEYAKIN YAKINNYA ! SEMUA INI ADA DAL...  LJ8yd0uRvwY   \n",
              "3  Jangan turut berduka cita doang dengeken suara...  LJ8yd0uRvwY   \n",
              "4  Coba pak presiden minta pak mahpud md ditugask...  LJ8yd0uRvwY   \n",
              "\n",
              "                                    video_title  \n",
              "0  Pernyataan Presiden Prabowo, 29 Agustus 2025  \n",
              "1  Pernyataan Presiden Prabowo, 29 Agustus 2025  \n",
              "2  Pernyataan Presiden Prabowo, 29 Agustus 2025  \n",
              "3  Pernyataan Presiden Prabowo, 29 Agustus 2025  \n",
              "4  Pernyataan Presiden Prabowo, 29 Agustus 2025  "
            ],
            "text/html": [
              "\n",
              "  <div id=\"df-dc6c86e7-3d90-4dc5-a9c7-132a88d84065\" class=\"colab-df-container\">\n",
              "    <div>\n",
              "<style scoped>\n",
              "    .dataframe tbody tr th:only-of-type {\n",
              "        vertical-align: middle;\n",
              "    }\n",
              "\n",
              "    .dataframe tbody tr th {\n",
              "        vertical-align: top;\n",
              "    }\n",
              "\n",
              "    .dataframe thead th {\n",
              "        text-align: right;\n",
              "    }\n",
              "</style>\n",
              "<table border=\"1\" class=\"dataframe\">\n",
              "  <thead>\n",
              "    <tr style=\"text-align: right;\">\n",
              "      <th></th>\n",
              "      <th>author</th>\n",
              "      <th>published_at</th>\n",
              "      <th>text</th>\n",
              "      <th>video_id</th>\n",
              "      <th>video_title</th>\n",
              "    </tr>\n",
              "  </thead>\n",
              "  <tbody>\n",
              "    <tr>\n",
              "      <th>0</th>\n",
              "      <td>@SHOFAHIDAYATULILMIYAH</td>\n",
              "      <td>2025-09-06T04:21:29Z</td>\n",
              "      <td>Gimana mau percaya pak udah bbuuuanyak korban ...</td>\n",
              "      <td>LJ8yd0uRvwY</td>\n",
              "      <td>Pernyataan Presiden Prabowo, 29 Agustus 2025</td>\n",
              "    </tr>\n",
              "    <tr>\n",
              "      <th>1</th>\n",
              "      <td>@AkbarPutra-m2z</td>\n",
              "      <td>2025-09-05T22:29:54Z</td>\n",
              "      <td>Assalamualaikum Pak Presiden RI, Pak Prabowo S...</td>\n",
              "      <td>LJ8yd0uRvwY</td>\n",
              "      <td>Pernyataan Presiden Prabowo, 29 Agustus 2025</td>\n",
              "    </tr>\n",
              "    <tr>\n",
              "      <th>2</th>\n",
              "      <td>@REZANGAPAK</td>\n",
              "      <td>2025-09-05T14:41:42Z</td>\n",
              "      <td>AKU YAKIN SEYAKIN YAKINNYA ! SEMUA INI ADA DAL...</td>\n",
              "      <td>LJ8yd0uRvwY</td>\n",
              "      <td>Pernyataan Presiden Prabowo, 29 Agustus 2025</td>\n",
              "    </tr>\n",
              "    <tr>\n",
              "      <th>3</th>\n",
              "      <td>@riskaindriyani8418</td>\n",
              "      <td>2025-09-05T12:46:09Z</td>\n",
              "      <td>Jangan turut berduka cita doang dengeken suara...</td>\n",
              "      <td>LJ8yd0uRvwY</td>\n",
              "      <td>Pernyataan Presiden Prabowo, 29 Agustus 2025</td>\n",
              "    </tr>\n",
              "    <tr>\n",
              "      <th>4</th>\n",
              "      <td>@ErikMuhdani8</td>\n",
              "      <td>2025-09-04T16:54:55Z</td>\n",
              "      <td>Coba pak presiden minta pak mahpud md ditugask...</td>\n",
              "      <td>LJ8yd0uRvwY</td>\n",
              "      <td>Pernyataan Presiden Prabowo, 29 Agustus 2025</td>\n",
              "    </tr>\n",
              "  </tbody>\n",
              "</table>\n",
              "</div>\n",
              "    <div class=\"colab-df-buttons\">\n",
              "\n",
              "  <div class=\"colab-df-container\">\n",
              "    <button class=\"colab-df-convert\" onclick=\"convertToInteractive('df-dc6c86e7-3d90-4dc5-a9c7-132a88d84065')\"\n",
              "            title=\"Convert this dataframe to an interactive table.\"\n",
              "            style=\"display:none;\">\n",
              "\n",
              "  <svg xmlns=\"http://www.w3.org/2000/svg\" height=\"24px\" viewBox=\"0 -960 960 960\">\n",
              "    <path d=\"M120-120v-720h720v720H120Zm60-500h600v-160H180v160Zm220 220h160v-160H400v160Zm0 220h160v-160H400v160ZM180-400h160v-160H180v160Zm440 0h160v-160H620v160ZM180-180h160v-160H180v160Zm440 0h160v-160H620v160Z\"/>\n",
              "  </svg>\n",
              "    </button>\n",
              "\n",
              "  <style>\n",
              "    .colab-df-container {\n",
              "      display:flex;\n",
              "      gap: 12px;\n",
              "    }\n",
              "\n",
              "    .colab-df-convert {\n",
              "      background-color: #E8F0FE;\n",
              "      border: none;\n",
              "      border-radius: 50%;\n",
              "      cursor: pointer;\n",
              "      display: none;\n",
              "      fill: #1967D2;\n",
              "      height: 32px;\n",
              "      padding: 0 0 0 0;\n",
              "      width: 32px;\n",
              "    }\n",
              "\n",
              "    .colab-df-convert:hover {\n",
              "      background-color: #E2EBFA;\n",
              "      box-shadow: 0px 1px 2px rgba(60, 64, 67, 0.3), 0px 1px 3px 1px rgba(60, 64, 67, 0.15);\n",
              "      fill: #174EA6;\n",
              "    }\n",
              "\n",
              "    .colab-df-buttons div {\n",
              "      margin-bottom: 4px;\n",
              "    }\n",
              "\n",
              "    [theme=dark] .colab-df-convert {\n",
              "      background-color: #3B4455;\n",
              "      fill: #D2E3FC;\n",
              "    }\n",
              "\n",
              "    [theme=dark] .colab-df-convert:hover {\n",
              "      background-color: #434B5C;\n",
              "      box-shadow: 0px 1px 3px 1px rgba(0, 0, 0, 0.15);\n",
              "      filter: drop-shadow(0px 1px 2px rgba(0, 0, 0, 0.3));\n",
              "      fill: #FFFFFF;\n",
              "    }\n",
              "  </style>\n",
              "\n",
              "    <script>\n",
              "      const buttonEl =\n",
              "        document.querySelector('#df-dc6c86e7-3d90-4dc5-a9c7-132a88d84065 button.colab-df-convert');\n",
              "      buttonEl.style.display =\n",
              "        google.colab.kernel.accessAllowed ? 'block' : 'none';\n",
              "\n",
              "      async function convertToInteractive(key) {\n",
              "        const element = document.querySelector('#df-dc6c86e7-3d90-4dc5-a9c7-132a88d84065');\n",
              "        const dataTable =\n",
              "          await google.colab.kernel.invokeFunction('convertToInteractive',\n",
              "                                                    [key], {});\n",
              "        if (!dataTable) return;\n",
              "\n",
              "        const docLinkHtml = 'Like what you see? Visit the ' +\n",
              "          '<a target=\"_blank\" href=https://colab.research.google.com/notebooks/data_table.ipynb>data table notebook</a>'\n",
              "          + ' to learn more about interactive tables.';\n",
              "        element.innerHTML = '';\n",
              "        dataTable['output_type'] = 'display_data';\n",
              "        await google.colab.output.renderOutput(dataTable, element);\n",
              "        const docLink = document.createElement('div');\n",
              "        docLink.innerHTML = docLinkHtml;\n",
              "        element.appendChild(docLink);\n",
              "      }\n",
              "    </script>\n",
              "  </div>\n",
              "\n",
              "\n",
              "    <div id=\"df-b686c966-6dde-4262-84b6-711f0a8b4cd0\">\n",
              "      <button class=\"colab-df-quickchart\" onclick=\"quickchart('df-b686c966-6dde-4262-84b6-711f0a8b4cd0')\"\n",
              "                title=\"Suggest charts\"\n",
              "                style=\"display:none;\">\n",
              "\n",
              "<svg xmlns=\"http://www.w3.org/2000/svg\" height=\"24px\"viewBox=\"0 0 24 24\"\n",
              "     width=\"24px\">\n",
              "    <g>\n",
              "        <path d=\"M19 3H5c-1.1 0-2 .9-2 2v14c0 1.1.9 2 2 2h14c1.1 0 2-.9 2-2V5c0-1.1-.9-2-2-2zM9 17H7v-7h2v7zm4 0h-2V7h2v10zm4 0h-2v-4h2v4z\"/>\n",
              "    </g>\n",
              "</svg>\n",
              "      </button>\n",
              "\n",
              "<style>\n",
              "  .colab-df-quickchart {\n",
              "      --bg-color: #E8F0FE;\n",
              "      --fill-color: #1967D2;\n",
              "      --hover-bg-color: #E2EBFA;\n",
              "      --hover-fill-color: #174EA6;\n",
              "      --disabled-fill-color: #AAA;\n",
              "      --disabled-bg-color: #DDD;\n",
              "  }\n",
              "\n",
              "  [theme=dark] .colab-df-quickchart {\n",
              "      --bg-color: #3B4455;\n",
              "      --fill-color: #D2E3FC;\n",
              "      --hover-bg-color: #434B5C;\n",
              "      --hover-fill-color: #FFFFFF;\n",
              "      --disabled-bg-color: #3B4455;\n",
              "      --disabled-fill-color: #666;\n",
              "  }\n",
              "\n",
              "  .colab-df-quickchart {\n",
              "    background-color: var(--bg-color);\n",
              "    border: none;\n",
              "    border-radius: 50%;\n",
              "    cursor: pointer;\n",
              "    display: none;\n",
              "    fill: var(--fill-color);\n",
              "    height: 32px;\n",
              "    padding: 0;\n",
              "    width: 32px;\n",
              "  }\n",
              "\n",
              "  .colab-df-quickchart:hover {\n",
              "    background-color: var(--hover-bg-color);\n",
              "    box-shadow: 0 1px 2px rgba(60, 64, 67, 0.3), 0 1px 3px 1px rgba(60, 64, 67, 0.15);\n",
              "    fill: var(--button-hover-fill-color);\n",
              "  }\n",
              "\n",
              "  .colab-df-quickchart-complete:disabled,\n",
              "  .colab-df-quickchart-complete:disabled:hover {\n",
              "    background-color: var(--disabled-bg-color);\n",
              "    fill: var(--disabled-fill-color);\n",
              "    box-shadow: none;\n",
              "  }\n",
              "\n",
              "  .colab-df-spinner {\n",
              "    border: 2px solid var(--fill-color);\n",
              "    border-color: transparent;\n",
              "    border-bottom-color: var(--fill-color);\n",
              "    animation:\n",
              "      spin 1s steps(1) infinite;\n",
              "  }\n",
              "\n",
              "  @keyframes spin {\n",
              "    0% {\n",
              "      border-color: transparent;\n",
              "      border-bottom-color: var(--fill-color);\n",
              "      border-left-color: var(--fill-color);\n",
              "    }\n",
              "    20% {\n",
              "      border-color: transparent;\n",
              "      border-left-color: var(--fill-color);\n",
              "      border-top-color: var(--fill-color);\n",
              "    }\n",
              "    30% {\n",
              "      border-color: transparent;\n",
              "      border-left-color: var(--fill-color);\n",
              "      border-top-color: var(--fill-color);\n",
              "      border-right-color: var(--fill-color);\n",
              "    }\n",
              "    40% {\n",
              "      border-color: transparent;\n",
              "      border-right-color: var(--fill-color);\n",
              "      border-top-color: var(--fill-color);\n",
              "    }\n",
              "    60% {\n",
              "      border-color: transparent;\n",
              "      border-right-color: var(--fill-color);\n",
              "    }\n",
              "    80% {\n",
              "      border-color: transparent;\n",
              "      border-right-color: var(--fill-color);\n",
              "      border-bottom-color: var(--fill-color);\n",
              "    }\n",
              "    90% {\n",
              "      border-color: transparent;\n",
              "      border-bottom-color: var(--fill-color);\n",
              "    }\n",
              "  }\n",
              "</style>\n",
              "\n",
              "      <script>\n",
              "        async function quickchart(key) {\n",
              "          const quickchartButtonEl =\n",
              "            document.querySelector('#' + key + ' button');\n",
              "          quickchartButtonEl.disabled = true;  // To prevent multiple clicks.\n",
              "          quickchartButtonEl.classList.add('colab-df-spinner');\n",
              "          try {\n",
              "            const charts = await google.colab.kernel.invokeFunction(\n",
              "                'suggestCharts', [key], {});\n",
              "          } catch (error) {\n",
              "            console.error('Error during call to suggestCharts:', error);\n",
              "          }\n",
              "          quickchartButtonEl.classList.remove('colab-df-spinner');\n",
              "          quickchartButtonEl.classList.add('colab-df-quickchart-complete');\n",
              "        }\n",
              "        (() => {\n",
              "          let quickchartButtonEl =\n",
              "            document.querySelector('#df-b686c966-6dde-4262-84b6-711f0a8b4cd0 button');\n",
              "          quickchartButtonEl.style.display =\n",
              "            google.colab.kernel.accessAllowed ? 'block' : 'none';\n",
              "        })();\n",
              "      </script>\n",
              "    </div>\n",
              "\n",
              "    </div>\n",
              "  </div>\n"
            ],
            "application/vnd.google.colaboratory.intrinsic+json": {
              "type": "dataframe",
              "summary": "{\n  \"name\": \"    print(\\\"No comments were scraped\",\n  \"rows\": 5,\n  \"fields\": [\n    {\n      \"column\": \"author\",\n      \"properties\": {\n        \"dtype\": \"string\",\n        \"num_unique_values\": 5,\n        \"samples\": [\n          \"@AkbarPutra-m2z\",\n          \"@ErikMuhdani8\",\n          \"@REZANGAPAK\"\n        ],\n        \"semantic_type\": \"\",\n        \"description\": \"\"\n      }\n    },\n    {\n      \"column\": \"published_at\",\n      \"properties\": {\n        \"dtype\": \"object\",\n        \"num_unique_values\": 5,\n        \"samples\": [\n          \"2025-09-05T22:29:54Z\",\n          \"2025-09-04T16:54:55Z\",\n          \"2025-09-05T14:41:42Z\"\n        ],\n        \"semantic_type\": \"\",\n        \"description\": \"\"\n      }\n    },\n    {\n      \"column\": \"text\",\n      \"properties\": {\n        \"dtype\": \"string\",\n        \"num_unique_values\": 5,\n        \"samples\": [\n          \"Assalamualaikum Pak Presiden RI, Pak Prabowo Subianto, salam hormat Pak\\n\\nPerkenalkan Nama Saya Akbar Dari SulSel Kota Makassar Tepatnya Di Kabupaten Gowa Kecamatan Barombong Desa Kanjilo\\n\\nIjin menyampaikan Aspirasi Pak\\n\\nAtas Nama Rakyat INDONESIA Saya Ijin Menyampaikan Aspirasi Terkait Program 3jt Perumahan, Bilkhusus Di Kabupaten Gowa Kecamatan Barombong Desa Kanjilo, Program Tersebut Belum Terevaluasi Pak, Sedangkan Angka Kemiskinan Masyarakat Yang Belum Punya Rumah Sangat Nyata Terpampang Di Depan Mata Pak\\n\\nMaka Dari Itu Dengan Penuh Rasa Hormat, Tolong Pak, Tegaskan Hal Tersebut Kepada Para Jajarannya Di Tingkat Provinsi, Kabupaten, Kecamatan, Dan Disetiap Desa-Desa Yang Ada Di Provinsi SulSel Kota Makassar Khusnya Di Kabupaten Gowa, Kecamatan Barombong, Desa Kanjilo Terkait Program 3jt Perumahan Tersebut Pak, Dikarenakan Banyak Warga Yang Layak Menerima Subsidi Perumahan Tersebut Pak Menurut Data-Data Yang Ada Di Lapangan Pak\\n\\n#Semoga Pak Presiden Bisa Menanggapi Hal Ini Kami Sangat Berharap Pak\\n\\nAssalamualaikum wr.wb....\",\n          \"Coba pak presiden minta pak mahpud md ditugaskan lagi,...dan bisa membantu bapak dalam memberantas korupsi...Merdeka pak\\nhttps://youtu.be/JoWdAF4w6Qc?si=2UCsvIneckwdu7cQ\",\n          \"AKU YAKIN SEYAKIN YAKINNYA ! SEMUA INI ADA DALANGNYA  DAN AQ YAKI  DALANGNYA ADALAH PEMILI YABG SAKIT HATI KARENA KALAH.A Q YAKIN ITU . TAPI SAY TIDAK MENUDUH  .SAYA HANYA MEYAKINKAN DIRI SAYA SENDIRI .!\\n#SEMANGAT OAK PRABOWO  SEMOGA INDONESIA LEBIH MAJJU.!\"\n        ],\n        \"semantic_type\": \"\",\n        \"description\": \"\"\n      }\n    },\n    {\n      \"column\": \"video_id\",\n      \"properties\": {\n        \"dtype\": \"category\",\n        \"num_unique_values\": 1,\n        \"samples\": [\n          \"LJ8yd0uRvwY\"\n        ],\n        \"semantic_type\": \"\",\n        \"description\": \"\"\n      }\n    },\n    {\n      \"column\": \"video_title\",\n      \"properties\": {\n        \"dtype\": \"category\",\n        \"num_unique_values\": 1,\n        \"samples\": [\n          \"Pernyataan Presiden Prabowo, 29 Agustus 2025\"\n        ],\n        \"semantic_type\": \"\",\n        \"description\": \"\"\n      }\n    }\n  ]\n}"
            }
          },
          "metadata": {}
        },
        {
          "output_type": "stream",
          "name": "stdout",
          "text": [
            "\n",
            "📈 Summary:\n",
            "Total comments: 22571\n",
            "Unique videos: 4\n",
            "Unique authors: 19202\n",
            "\n",
            "📺 Comments per video:\n",
            "  3Lz8PnFvjhs: 306 comments\n",
            "    Title: BREAKING NEWS - PIMPINAN DPR RI MENERIMA PERWAKILA...\n",
            "  I9peHTC9g3o: 1147 comments\n",
            "    Title: BREAKING NEWS - KONFERENSI PERS DPR RI MENJAWAB TU...\n",
            "  LJ8yd0uRvwY: 11209 comments\n",
            "    Title: Pernyataan Presiden Prabowo, 29 Agustus 2025\n",
            "  oOf1b1P6fGc: 9909 comments\n",
            "    Title: LIVE: Keterangan Pers Presiden Prabowo, Istana Mer...\n"
          ]
        }
      ],
      "source": [
        "# Display the first 5 rows of the DataFrame with the new video_title column\n",
        "if not comments_df.empty:\n",
        "    print(\"📊 Sample of scraped comments:\")\n",
        "    print(f\"Columns: {list(comments_df.columns)}\")\n",
        "    print(f\"Shape: {comments_df.shape}\")\n",
        "    print(\"\\nFirst 5 comments:\")\n",
        "    display(comments_df.head())\n",
        "\n",
        "    # Show some basic statistics\n",
        "    print(f\"\\n📈 Summary:\")\n",
        "    print(f\"Total comments: {len(comments_df)}\")\n",
        "    print(f\"Unique videos: {comments_df['video_id'].nunique()}\")\n",
        "    print(f\"Unique authors: {comments_df['author'].nunique()}\")\n",
        "\n",
        "    # Show comments per video\n",
        "    print(f\"\\n📺 Comments per video:\")\n",
        "    video_stats = comments_df.groupby(['video_id', 'video_title']).size().reset_index(name='comment_count')\n",
        "    for _, row in video_stats.iterrows():\n",
        "        title_preview = row['video_title'][:50] + \"...\" if len(row['video_title']) > 50 else row['video_title']\n",
        "        print(f\"  {row['video_id']}: {row['comment_count']} comments\")\n",
        "        print(f\"    Title: {title_preview}\")\n",
        "else:\n",
        "    print(\"No comments were scraped.\")"
      ]
    },
    {
      "cell_type": "code",
      "execution_count": 5,
      "metadata": {
        "colab": {
          "base_uri": "https://localhost:8080/"
        },
        "id": "4USLM_UIcoN0",
        "outputId": "509bf26b-405b-4e75-aadf-d2b1439612cc"
      },
      "outputs": [
        {
          "output_type": "stream",
          "name": "stdout",
          "text": [
            "💾 Comments saved to /content/civic_sentiment/data/raw/comments.csv\n",
            "📁 File size: 5804.4 KB\n"
          ]
        }
      ],
      "source": [
        "# Save the DataFrame to a CSV file\n",
        "if not comments_df.empty:\n",
        "    output_path = RAW_DATA_DIR / \"comments.csv\"\n",
        "    comments_df.to_csv(output_path, index=False)\n",
        "    print(f\"💾 Comments saved to {output_path}\")\n",
        "    print(f\"📁 File size: {output_path.stat().st_size / 1024:.1f} KB\")\n",
        "else:\n",
        "    print(\"⚠️ No data to save - comments DataFrame is empty\")"
      ]
    },
    {
      "cell_type": "code",
      "execution_count": 6,
      "metadata": {
        "colab": {
          "base_uri": "https://localhost:8080/"
        },
        "id": "3a99ee5c",
        "outputId": "8e32c00a-1f35-464a-f74c-dc81a448b068"
      },
      "outputs": [
        {
          "output_type": "stream",
          "name": "stdout",
          "text": [
            "Checking for missing values:\n",
            "author          0\n",
            "published_at    0\n",
            "text            0\n",
            "video_id        0\n",
            "video_title     0\n",
            "dtype: int64\n"
          ]
        }
      ],
      "source": [
        "print(\"Checking for missing values:\")\n",
        "print(comments_df.isnull().sum())"
      ]
    },
    {
      "cell_type": "markdown",
      "metadata": {
        "id": "2f9ba9f2"
      },
      "source": [
        "## 3. Data Cleaning\n",
        "\n",
        "Now I'll clean up the data I've collected. First, I'll check and remove duplicate comments, then I'll clean up the comment text.\n"
      ]
    },
    {
      "cell_type": "code",
      "execution_count": 7,
      "metadata": {
        "colab": {
          "base_uri": "https://localhost:8080/"
        },
        "id": "f4498585",
        "outputId": "95ab842a-c858-46f9-d845-267e23174367"
      },
      "outputs": [
        {
          "output_type": "stream",
          "name": "stdout",
          "text": [
            "Checking for duplicate comments:\n",
            "Number of duplicate rows found: 7\n",
            "\n",
            "DataFrame shape after removing duplicates:\n",
            "(22564, 5)\n"
          ]
        }
      ],
      "source": [
        "print(\"Checking for duplicate comments:\")\n",
        "duplicate_rows = comments_df.duplicated()\n",
        "print(f\"Number of duplicate rows found: {duplicate_rows.sum()}\")\n",
        "\n",
        "comments_df.drop_duplicates(inplace=True)\n",
        "\n",
        "print(\"\\nDataFrame shape after removing duplicates:\")\n",
        "print(comments_df.shape)"
      ]
    },
    {
      "cell_type": "markdown",
      "metadata": {
        "id": "29e63418"
      },
      "source": [
        "## 3. Data Cleaning"
      ]
    },
    {
      "cell_type": "code",
      "execution_count": 8,
      "metadata": {
        "colab": {
          "base_uri": "https://localhost:8080/",
          "height": 223
        },
        "id": "9f7e36f8",
        "outputId": "df57f979-39e2-426e-9c42-46cbb884e6d2"
      },
      "outputs": [
        {
          "output_type": "stream",
          "name": "stdout",
          "text": [
            "DataFrame with cleaned_text column:\n"
          ]
        },
        {
          "output_type": "display_data",
          "data": {
            "text/plain": [
              "                                                text  \\\n",
              "0  Gimana mau percaya pak udah bbuuuanyak korban ...   \n",
              "1  Assalamualaikum Pak Presiden RI, Pak Prabowo S...   \n",
              "2  AKU YAKIN SEYAKIN YAKINNYA ! SEMUA INI ADA DAL...   \n",
              "3  Jangan turut berduka cita doang dengeken suara...   \n",
              "4  Coba pak presiden minta pak mahpud md ditugask...   \n",
              "\n",
              "                                        cleaned_text  \n",
              "0  gimana mau percaya pak udah bbuuuanyak korban ...  \n",
              "1  assalamualaikum pak presiden ri pak prabowo su...  \n",
              "2  aku yakin seyakin yakinnya semua ini ada dalan...  \n",
              "3  jangan turut berduka cita doang dengeken suara...  \n",
              "4  coba pak presiden minta pak mahpud md ditugask...  "
            ],
            "text/html": [
              "\n",
              "  <div id=\"df-e85b5dec-be89-48e9-82ec-c2198cdefa9a\" class=\"colab-df-container\">\n",
              "    <div>\n",
              "<style scoped>\n",
              "    .dataframe tbody tr th:only-of-type {\n",
              "        vertical-align: middle;\n",
              "    }\n",
              "\n",
              "    .dataframe tbody tr th {\n",
              "        vertical-align: top;\n",
              "    }\n",
              "\n",
              "    .dataframe thead th {\n",
              "        text-align: right;\n",
              "    }\n",
              "</style>\n",
              "<table border=\"1\" class=\"dataframe\">\n",
              "  <thead>\n",
              "    <tr style=\"text-align: right;\">\n",
              "      <th></th>\n",
              "      <th>text</th>\n",
              "      <th>cleaned_text</th>\n",
              "    </tr>\n",
              "  </thead>\n",
              "  <tbody>\n",
              "    <tr>\n",
              "      <th>0</th>\n",
              "      <td>Gimana mau percaya pak udah bbuuuanyak korban ...</td>\n",
              "      <td>gimana mau percaya pak udah bbuuuanyak korban ...</td>\n",
              "    </tr>\n",
              "    <tr>\n",
              "      <th>1</th>\n",
              "      <td>Assalamualaikum Pak Presiden RI, Pak Prabowo S...</td>\n",
              "      <td>assalamualaikum pak presiden ri pak prabowo su...</td>\n",
              "    </tr>\n",
              "    <tr>\n",
              "      <th>2</th>\n",
              "      <td>AKU YAKIN SEYAKIN YAKINNYA ! SEMUA INI ADA DAL...</td>\n",
              "      <td>aku yakin seyakin yakinnya semua ini ada dalan...</td>\n",
              "    </tr>\n",
              "    <tr>\n",
              "      <th>3</th>\n",
              "      <td>Jangan turut berduka cita doang dengeken suara...</td>\n",
              "      <td>jangan turut berduka cita doang dengeken suara...</td>\n",
              "    </tr>\n",
              "    <tr>\n",
              "      <th>4</th>\n",
              "      <td>Coba pak presiden minta pak mahpud md ditugask...</td>\n",
              "      <td>coba pak presiden minta pak mahpud md ditugask...</td>\n",
              "    </tr>\n",
              "  </tbody>\n",
              "</table>\n",
              "</div>\n",
              "    <div class=\"colab-df-buttons\">\n",
              "\n",
              "  <div class=\"colab-df-container\">\n",
              "    <button class=\"colab-df-convert\" onclick=\"convertToInteractive('df-e85b5dec-be89-48e9-82ec-c2198cdefa9a')\"\n",
              "            title=\"Convert this dataframe to an interactive table.\"\n",
              "            style=\"display:none;\">\n",
              "\n",
              "  <svg xmlns=\"http://www.w3.org/2000/svg\" height=\"24px\" viewBox=\"0 -960 960 960\">\n",
              "    <path d=\"M120-120v-720h720v720H120Zm60-500h600v-160H180v160Zm220 220h160v-160H400v160Zm0 220h160v-160H400v160ZM180-400h160v-160H180v160Zm440 0h160v-160H620v160ZM180-180h160v-160H180v160Zm440 0h160v-160H620v160Z\"/>\n",
              "  </svg>\n",
              "    </button>\n",
              "\n",
              "  <style>\n",
              "    .colab-df-container {\n",
              "      display:flex;\n",
              "      gap: 12px;\n",
              "    }\n",
              "\n",
              "    .colab-df-convert {\n",
              "      background-color: #E8F0FE;\n",
              "      border: none;\n",
              "      border-radius: 50%;\n",
              "      cursor: pointer;\n",
              "      display: none;\n",
              "      fill: #1967D2;\n",
              "      height: 32px;\n",
              "      padding: 0 0 0 0;\n",
              "      width: 32px;\n",
              "    }\n",
              "\n",
              "    .colab-df-convert:hover {\n",
              "      background-color: #E2EBFA;\n",
              "      box-shadow: 0px 1px 2px rgba(60, 64, 67, 0.3), 0px 1px 3px 1px rgba(60, 64, 67, 0.15);\n",
              "      fill: #174EA6;\n",
              "    }\n",
              "\n",
              "    .colab-df-buttons div {\n",
              "      margin-bottom: 4px;\n",
              "    }\n",
              "\n",
              "    [theme=dark] .colab-df-convert {\n",
              "      background-color: #3B4455;\n",
              "      fill: #D2E3FC;\n",
              "    }\n",
              "\n",
              "    [theme=dark] .colab-df-convert:hover {\n",
              "      background-color: #434B5C;\n",
              "      box-shadow: 0px 1px 3px 1px rgba(0, 0, 0, 0.15);\n",
              "      filter: drop-shadow(0px 1px 2px rgba(0, 0, 0, 0.3));\n",
              "      fill: #FFFFFF;\n",
              "    }\n",
              "  </style>\n",
              "\n",
              "    <script>\n",
              "      const buttonEl =\n",
              "        document.querySelector('#df-e85b5dec-be89-48e9-82ec-c2198cdefa9a button.colab-df-convert');\n",
              "      buttonEl.style.display =\n",
              "        google.colab.kernel.accessAllowed ? 'block' : 'none';\n",
              "\n",
              "      async function convertToInteractive(key) {\n",
              "        const element = document.querySelector('#df-e85b5dec-be89-48e9-82ec-c2198cdefa9a');\n",
              "        const dataTable =\n",
              "          await google.colab.kernel.invokeFunction('convertToInteractive',\n",
              "                                                    [key], {});\n",
              "        if (!dataTable) return;\n",
              "\n",
              "        const docLinkHtml = 'Like what you see? Visit the ' +\n",
              "          '<a target=\"_blank\" href=https://colab.research.google.com/notebooks/data_table.ipynb>data table notebook</a>'\n",
              "          + ' to learn more about interactive tables.';\n",
              "        element.innerHTML = '';\n",
              "        dataTable['output_type'] = 'display_data';\n",
              "        await google.colab.output.renderOutput(dataTable, element);\n",
              "        const docLink = document.createElement('div');\n",
              "        docLink.innerHTML = docLinkHtml;\n",
              "        element.appendChild(docLink);\n",
              "      }\n",
              "    </script>\n",
              "  </div>\n",
              "\n",
              "\n",
              "    <div id=\"df-36b93d0e-5071-408b-ba3e-1b8337e7ebb6\">\n",
              "      <button class=\"colab-df-quickchart\" onclick=\"quickchart('df-36b93d0e-5071-408b-ba3e-1b8337e7ebb6')\"\n",
              "                title=\"Suggest charts\"\n",
              "                style=\"display:none;\">\n",
              "\n",
              "<svg xmlns=\"http://www.w3.org/2000/svg\" height=\"24px\"viewBox=\"0 0 24 24\"\n",
              "     width=\"24px\">\n",
              "    <g>\n",
              "        <path d=\"M19 3H5c-1.1 0-2 .9-2 2v14c0 1.1.9 2 2 2h14c1.1 0 2-.9 2-2V5c0-1.1-.9-2-2-2zM9 17H7v-7h2v7zm4 0h-2V7h2v10zm4 0h-2v-4h2v4z\"/>\n",
              "    </g>\n",
              "</svg>\n",
              "      </button>\n",
              "\n",
              "<style>\n",
              "  .colab-df-quickchart {\n",
              "      --bg-color: #E8F0FE;\n",
              "      --fill-color: #1967D2;\n",
              "      --hover-bg-color: #E2EBFA;\n",
              "      --hover-fill-color: #174EA6;\n",
              "      --disabled-fill-color: #AAA;\n",
              "      --disabled-bg-color: #DDD;\n",
              "  }\n",
              "\n",
              "  [theme=dark] .colab-df-quickchart {\n",
              "      --bg-color: #3B4455;\n",
              "      --fill-color: #D2E3FC;\n",
              "      --hover-bg-color: #434B5C;\n",
              "      --hover-fill-color: #FFFFFF;\n",
              "      --disabled-bg-color: #3B4455;\n",
              "      --disabled-fill-color: #666;\n",
              "  }\n",
              "\n",
              "  .colab-df-quickchart {\n",
              "    background-color: var(--bg-color);\n",
              "    border: none;\n",
              "    border-radius: 50%;\n",
              "    cursor: pointer;\n",
              "    display: none;\n",
              "    fill: var(--fill-color);\n",
              "    height: 32px;\n",
              "    padding: 0;\n",
              "    width: 32px;\n",
              "  }\n",
              "\n",
              "  .colab-df-quickchart:hover {\n",
              "    background-color: var(--hover-bg-color);\n",
              "    box-shadow: 0 1px 2px rgba(60, 64, 67, 0.3), 0 1px 3px 1px rgba(60, 64, 67, 0.15);\n",
              "    fill: var(--button-hover-fill-color);\n",
              "  }\n",
              "\n",
              "  .colab-df-quickchart-complete:disabled,\n",
              "  .colab-df-quickchart-complete:disabled:hover {\n",
              "    background-color: var(--disabled-bg-color);\n",
              "    fill: var(--disabled-fill-color);\n",
              "    box-shadow: none;\n",
              "  }\n",
              "\n",
              "  .colab-df-spinner {\n",
              "    border: 2px solid var(--fill-color);\n",
              "    border-color: transparent;\n",
              "    border-bottom-color: var(--fill-color);\n",
              "    animation:\n",
              "      spin 1s steps(1) infinite;\n",
              "  }\n",
              "\n",
              "  @keyframes spin {\n",
              "    0% {\n",
              "      border-color: transparent;\n",
              "      border-bottom-color: var(--fill-color);\n",
              "      border-left-color: var(--fill-color);\n",
              "    }\n",
              "    20% {\n",
              "      border-color: transparent;\n",
              "      border-left-color: var(--fill-color);\n",
              "      border-top-color: var(--fill-color);\n",
              "    }\n",
              "    30% {\n",
              "      border-color: transparent;\n",
              "      border-left-color: var(--fill-color);\n",
              "      border-top-color: var(--fill-color);\n",
              "      border-right-color: var(--fill-color);\n",
              "    }\n",
              "    40% {\n",
              "      border-color: transparent;\n",
              "      border-right-color: var(--fill-color);\n",
              "      border-top-color: var(--fill-color);\n",
              "    }\n",
              "    60% {\n",
              "      border-color: transparent;\n",
              "      border-right-color: var(--fill-color);\n",
              "    }\n",
              "    80% {\n",
              "      border-color: transparent;\n",
              "      border-right-color: var(--fill-color);\n",
              "      border-bottom-color: var(--fill-color);\n",
              "    }\n",
              "    90% {\n",
              "      border-color: transparent;\n",
              "      border-bottom-color: var(--fill-color);\n",
              "    }\n",
              "  }\n",
              "</style>\n",
              "\n",
              "      <script>\n",
              "        async function quickchart(key) {\n",
              "          const quickchartButtonEl =\n",
              "            document.querySelector('#' + key + ' button');\n",
              "          quickchartButtonEl.disabled = true;  // To prevent multiple clicks.\n",
              "          quickchartButtonEl.classList.add('colab-df-spinner');\n",
              "          try {\n",
              "            const charts = await google.colab.kernel.invokeFunction(\n",
              "                'suggestCharts', [key], {});\n",
              "          } catch (error) {\n",
              "            console.error('Error during call to suggestCharts:', error);\n",
              "          }\n",
              "          quickchartButtonEl.classList.remove('colab-df-spinner');\n",
              "          quickchartButtonEl.classList.add('colab-df-quickchart-complete');\n",
              "        }\n",
              "        (() => {\n",
              "          let quickchartButtonEl =\n",
              "            document.querySelector('#df-36b93d0e-5071-408b-ba3e-1b8337e7ebb6 button');\n",
              "          quickchartButtonEl.style.display =\n",
              "            google.colab.kernel.accessAllowed ? 'block' : 'none';\n",
              "        })();\n",
              "      </script>\n",
              "    </div>\n",
              "\n",
              "    </div>\n",
              "  </div>\n"
            ],
            "application/vnd.google.colaboratory.intrinsic+json": {
              "type": "dataframe",
              "summary": "{\n  \"name\": \"display(comments_df[['text', 'cleaned_text']]\",\n  \"rows\": 5,\n  \"fields\": [\n    {\n      \"column\": \"text\",\n      \"properties\": {\n        \"dtype\": \"string\",\n        \"num_unique_values\": 5,\n        \"samples\": [\n          \"Assalamualaikum Pak Presiden RI, Pak Prabowo Subianto, salam hormat Pak\\n\\nPerkenalkan Nama Saya Akbar Dari SulSel Kota Makassar Tepatnya Di Kabupaten Gowa Kecamatan Barombong Desa Kanjilo\\n\\nIjin menyampaikan Aspirasi Pak\\n\\nAtas Nama Rakyat INDONESIA Saya Ijin Menyampaikan Aspirasi Terkait Program 3jt Perumahan, Bilkhusus Di Kabupaten Gowa Kecamatan Barombong Desa Kanjilo, Program Tersebut Belum Terevaluasi Pak, Sedangkan Angka Kemiskinan Masyarakat Yang Belum Punya Rumah Sangat Nyata Terpampang Di Depan Mata Pak\\n\\nMaka Dari Itu Dengan Penuh Rasa Hormat, Tolong Pak, Tegaskan Hal Tersebut Kepada Para Jajarannya Di Tingkat Provinsi, Kabupaten, Kecamatan, Dan Disetiap Desa-Desa Yang Ada Di Provinsi SulSel Kota Makassar Khusnya Di Kabupaten Gowa, Kecamatan Barombong, Desa Kanjilo Terkait Program 3jt Perumahan Tersebut Pak, Dikarenakan Banyak Warga Yang Layak Menerima Subsidi Perumahan Tersebut Pak Menurut Data-Data Yang Ada Di Lapangan Pak\\n\\n#Semoga Pak Presiden Bisa Menanggapi Hal Ini Kami Sangat Berharap Pak\\n\\nAssalamualaikum wr.wb....\",\n          \"Coba pak presiden minta pak mahpud md ditugaskan lagi,...dan bisa membantu bapak dalam memberantas korupsi...Merdeka pak\\nhttps://youtu.be/JoWdAF4w6Qc?si=2UCsvIneckwdu7cQ\",\n          \"AKU YAKIN SEYAKIN YAKINNYA ! SEMUA INI ADA DALANGNYA  DAN AQ YAKI  DALANGNYA ADALAH PEMILI YABG SAKIT HATI KARENA KALAH.A Q YAKIN ITU . TAPI SAY TIDAK MENUDUH  .SAYA HANYA MEYAKINKAN DIRI SAYA SENDIRI .!\\n#SEMANGAT OAK PRABOWO  SEMOGA INDONESIA LEBIH MAJJU.!\"\n        ],\n        \"semantic_type\": \"\",\n        \"description\": \"\"\n      }\n    },\n    {\n      \"column\": \"cleaned_text\",\n      \"properties\": {\n        \"dtype\": \"string\",\n        \"num_unique_values\": 5,\n        \"samples\": [\n          \"assalamualaikum pak presiden ri pak prabowo subianto salam hormat pak perkenalkan nama saya akbar dari sulsel kota makassar tepatnya di kabupaten gowa kecamatan barombong desa kanjilo ijin menyampaikan aspirasi pak atas nama rakyat indonesia saya ijin menyampaikan aspirasi terkait program jt perumahan bilkhusus di kabupaten gowa kecamatan barombong desa kanjilo program tersebut belum terevaluasi pak sedangkan angka kemiskinan masyarakat yang belum punya rumah sangat nyata terpampang di depan mata pak maka dari itu dengan penuh rasa hormat tolong pak tegaskan hal tersebut kepada para jajarannya di tingkat provinsi kabupaten kecamatan dan disetiap desadesa yang ada di provinsi sulsel kota makassar khusnya di kabupaten gowa kecamatan barombong desa kanjilo terkait program jt perumahan tersebut pak dikarenakan banyak warga yang layak menerima subsidi perumahan tersebut pak menurut datadata yang ada di lapangan pak semoga pak presiden bisa menanggapi hal ini kami sangat berharap pak assalamualaikum wrwb\",\n          \"coba pak presiden minta pak mahpud md ditugaskan lagidan bisa membantu bapak dalam memberantas korupsimerdeka pak\",\n          \"aku yakin seyakin yakinnya semua ini ada dalangnya dan aq yaki dalangnya adalah pemili yabg sakit hati karena kalaha q yakin itu tapi say tidak menuduh saya hanya meyakinkan diri saya sendiri semangat oak prabowo semoga indonesia lebih majju\"\n        ],\n        \"semantic_type\": \"\",\n        \"description\": \"\"\n      }\n    }\n  ]\n}"
            }
          },
          "metadata": {}
        }
      ],
      "source": [
        "import re\n",
        "import string\n",
        "\n",
        "def clean_text(text):\n",
        "    \"\"\"\n",
        "    Cleans the input text by converting to lowercase, removing URLs,\n",
        "    punctuation, numbers, and extra whitespace.\n",
        "    \"\"\"\n",
        "    text = text.lower() # Convert to lowercase\n",
        "    text = re.sub(r'http\\S+', '', text) # Remove URLs\n",
        "    text = text.translate(str.maketrans('', '', string.punctuation)) # Remove punctuation\n",
        "    text = re.sub(r'\\d+', '', text) # Remove numbers\n",
        "    text = re.sub(r'\\s+', ' ', text).strip() # Remove extra whitespace\n",
        "    return text\n",
        "\n",
        "comments_df['cleaned_text'] = comments_df['text'].apply(clean_text)\n",
        "\n",
        "print(\"DataFrame with cleaned_text column:\")\n",
        "display(comments_df[['text', 'cleaned_text']].head())"
      ]
    },
    {
      "cell_type": "code",
      "execution_count": 9,
      "metadata": {
        "colab": {
          "base_uri": "https://localhost:8080/"
        },
        "id": "8f4eabd1",
        "outputId": "7db07bd2-9264-4084-c721-7ed0907abd03"
      },
      "outputs": [
        {
          "output_type": "stream",
          "name": "stdout",
          "text": [
            "Current data types:\n",
            "<class 'pandas.core.frame.DataFrame'>\n",
            "Index: 22564 entries, 0 to 22570\n",
            "Data columns (total 6 columns):\n",
            " #   Column        Non-Null Count  Dtype \n",
            "---  ------        --------------  ----- \n",
            " 0   author        22564 non-null  object\n",
            " 1   published_at  22564 non-null  object\n",
            " 2   text          22564 non-null  object\n",
            " 3   video_id      22564 non-null  object\n",
            " 4   video_title   22564 non-null  object\n",
            " 5   cleaned_text  22564 non-null  object\n",
            "dtypes: object(6)\n",
            "memory usage: 1.2+ MB\n",
            "None\n"
          ]
        }
      ],
      "source": [
        "print(\"Current data types:\")\n",
        "print(comments_df.info())"
      ]
    },
    {
      "cell_type": "code",
      "execution_count": 10,
      "metadata": {
        "colab": {
          "base_uri": "https://localhost:8080/"
        },
        "id": "cEzOwTsAj_Rp",
        "outputId": "ea9cec5f-252b-4234-ae5d-6b9f0fe54518"
      },
      "outputs": [
        {
          "output_type": "stream",
          "name": "stdout",
          "text": [
            "\n",
            "Data types after converting 'published_at':\n",
            "<class 'pandas.core.frame.DataFrame'>\n",
            "Index: 22564 entries, 0 to 22570\n",
            "Data columns (total 6 columns):\n",
            " #   Column        Non-Null Count  Dtype              \n",
            "---  ------        --------------  -----              \n",
            " 0   author        22564 non-null  object             \n",
            " 1   published_at  22564 non-null  datetime64[ns, UTC]\n",
            " 2   text          22564 non-null  object             \n",
            " 3   video_id      22564 non-null  object             \n",
            " 4   video_title   22564 non-null  object             \n",
            " 5   cleaned_text  22564 non-null  object             \n",
            "dtypes: datetime64[ns, UTC](1), object(5)\n",
            "memory usage: 1.2+ MB\n",
            "None\n"
          ]
        }
      ],
      "source": [
        "import pandas as pd\n",
        "\n",
        "comments_df['published_at'] = pd.to_datetime(comments_df['published_at'])\n",
        "\n",
        "print(\"\\nData types after converting 'published_at':\")\n",
        "print(comments_df.info())"
      ]
    },
    {
      "cell_type": "markdown",
      "metadata": {
        "id": "a7Ee-z5n79yX"
      },
      "source": [
        "\"Why didn't I encode the emojis too?\" I'm planning to manually label a subset of the data, and if I encode the emojis now, I'll get confused and uncomfortable during the labeling process."
      ]
    },
    {
      "cell_type": "markdown",
      "metadata": {
        "id": "s37a8xjb79yX"
      },
      "source": [
        "## 4. Data Splitting\n",
        "\n",
        "Now I'll split the data into training and inference sets. I'm using 75% for inference and 25% for training which will be manually labeled.\n"
      ]
    },
    {
      "cell_type": "code",
      "execution_count": 11,
      "metadata": {
        "colab": {
          "base_uri": "https://localhost:8080/"
        },
        "id": "6Twjl2oYk9T4",
        "outputId": "bd7215be-5369-4153-a0a0-cb709441fac5"
      },
      "outputs": [
        {
          "output_type": "stream",
          "name": "stdout",
          "text": [
            "Training set size: 5641\n",
            "Inference set size: 16923\n"
          ]
        }
      ],
      "source": [
        "from sklearn.model_selection import train_test_split\n",
        "\n",
        "inference_df, training_df = train_test_split(comments_df['cleaned_text'], test_size=0.25, random_state=42)\n",
        "print(f\"Training set size: {len(training_df)}\")\n",
        "print(f\"Inference set size: {len(inference_df)}\")"
      ]
    },
    {
      "cell_type": "markdown",
      "metadata": {
        "id": "ektC6pwa79yY"
      },
      "source": [
        "## 5. Save Processed Data\n",
        "\n",
        "Now I'll save all the cleaned and processed data to the processed folder. I'll save 3 files: cleaned data, training data, and inference data.\n"
      ]
    },
    {
      "cell_type": "markdown",
      "metadata": {
        "id": "BbPoixyFKNm3"
      },
      "source": [
        "## 6. Commit and Push Changes\n",
        "\n",
        "Now that we have processed data, let's commit our changes and push them to GitHub.\n"
      ]
    },
    {
      "cell_type": "code",
      "execution_count": 12,
      "metadata": {
        "id": "Waq1LEfcKNm4",
        "outputId": "382d7c45-0660-4f35-c202-3430af3d6cc3",
        "colab": {
          "base_uri": "https://localhost:8080/"
        }
      },
      "outputs": [
        {
          "output_type": "stream",
          "name": "stdout",
          "text": [
            "Checking for changes...\n",
            "ℹ️ No changes to commit. Repository is up to date.\n",
            "If you made changes, make sure to save your notebook first!\n"
          ]
        }
      ],
      "source": [
        "# Commit and push changes to GitHub\n",
        "import subprocess\n",
        "from pathlib import Path\n",
        "\n",
        "# Change to the project directory\n",
        "project_path = Path(\"/content/civic_sentiment\")\n",
        "\n",
        "# Check if there are any changes first\n",
        "print(\"Checking for changes...\")\n",
        "result = subprocess.run([\"git\", \"status\", \"--porcelain\"], cwd=project_path, capture_output=True, text=True)\n",
        "\n",
        "if result.stdout.strip():\n",
        "    print(\"Changes detected:\")\n",
        "    print(result.stdout)\n",
        "\n",
        "    # Add all changes\n",
        "    subprocess.run([\"git\", \"add\", \".\"], cwd=project_path, check=True)\n",
        "\n",
        "    # Check status\n",
        "    print(\"\\nGit status:\")\n",
        "    subprocess.run([\"git\", \"status\"], cwd=project_path, check=True)\n",
        "\n",
        "    # Commit with a message\n",
        "    commit_message = \"Update data collection notebook and processed data\"\n",
        "    subprocess.run([\"git\", \"commit\", \"-m\", commit_message], cwd=project_path, check=True)\n",
        "\n",
        "    # Push to GitHub\n",
        "    subprocess.run([\"git\", \"push\", \"origin\", \"master\"], cwd=project_path, check=True)\n",
        "\n",
        "    print(\"✅ Successfully committed and pushed changes to GitHub!\")\n",
        "else:\n",
        "    print(\"ℹ️ No changes to commit. Repository is up to date.\")\n",
        "    print(\"If you made changes, make sure to save your notebook first!\")\n"
      ]
    },
    {
      "cell_type": "code",
      "execution_count": 13,
      "metadata": {
        "colab": {
          "base_uri": "https://localhost:8080/"
        },
        "id": "Q9XmyMSclH8s",
        "outputId": "b97cd695-ccf0-4b5c-a8e2-c322e63e8bf4"
      },
      "outputs": [
        {
          "output_type": "stream",
          "name": "stdout",
          "text": [
            "💾 Cleaned comments saved to /content/civic_sentiment/data/processed/cleaned_comments.csv\n",
            "📁 File size: 9161.6 KB\n",
            "💾 Training comments saved to /content/civic_sentiment/data/processed/training_comments.csv\n",
            "📁 File size: 800.1 KB\n",
            "💾 Inference comments saved to /content/civic_sentiment/data/processed/inference_comments.csv\n",
            "📁 File size: 2448.7 KB\n",
            "\n",
            "📋 Data saved includes:\n",
            "  • 22564 total cleaned comments\n",
            "  • 5641 training comments\n",
            "  • 16923 inference comments\n",
            "  • Columns: author, published_at, text, video_id, video_title, cleaned_text\n"
          ]
        }
      ],
      "source": [
        "import os\n",
        "from civic_sentiment.config import PROCESSED_DATA_DIR\n",
        "\n",
        "# Create the processed data directory if it doesn't exist\n",
        "os.makedirs(PROCESSED_DATA_DIR, exist_ok=True)\n",
        "\n",
        "# Save the cleaned DataFrame to a CSV file in the processed directory\n",
        "cleaned_output_path = PROCESSED_DATA_DIR / \"cleaned_comments.csv\"\n",
        "if not comments_df.empty:\n",
        "    comments_df.to_csv(cleaned_output_path, index=False)\n",
        "    print(f\"💾 Cleaned comments saved to {cleaned_output_path}\")\n",
        "    print(f\"📁 File size: {cleaned_output_path.stat().st_size / 1024:.1f} KB\")\n",
        "else:\n",
        "    print(\"⚠️ No cleaned data to save - comments DataFrame is empty\")\n",
        "\n",
        "# Save the training DataFrame to a CSV file in the processed directory\n",
        "training_output_path = PROCESSED_DATA_DIR / \"training_comments.csv\"\n",
        "if not training_df.empty:\n",
        "    training_df.to_csv(training_output_path, index=False)\n",
        "    print(f\"💾 Training comments saved to {training_output_path}\")\n",
        "    print(f\"📁 File size: {training_output_path.stat().st_size / 1024:.1f} KB\")\n",
        "else:\n",
        "    print(\"⚠️ No training data to save - training DataFrame is empty\")\n",
        "\n",
        "# Save the inference DataFrame to a CSV file in the processed directory\n",
        "inference_output_path = PROCESSED_DATA_DIR / \"inference_comments.csv\"\n",
        "if not inference_df.empty:\n",
        "    inference_df.to_csv(inference_output_path, index=False)\n",
        "    print(f\"💾 Inference comments saved to {inference_output_path}\")\n",
        "    print(f\"📁 File size: {inference_output_path.stat().st_size / 1024:.1f} KB\")\n",
        "else:\n",
        "    print(\"⚠️ No inference data to save - inference DataFrame is empty\")\n",
        "\n",
        "# Show a preview of what was saved\n",
        "print(f\"\\n📋 Data saved includes:\")\n",
        "print(f\"  • {len(comments_df)} total cleaned comments\")\n",
        "print(f\"  • {len(training_df)} training comments\")\n",
        "print(f\"  • {len(inference_df)} inference comments\")\n",
        "print(f\"  • Columns: {', '.join(comments_df.columns)}\")"
      ]
    },
    {
      "cell_type": "markdown",
      "metadata": {
        "id": "8c2635a9"
      },
      "source": [
        "## 6. Commit Changes\n",
        "\n",
        "Now that I have processed the data, I will commit the changes to my GitHub repository."
      ]
    },
    {
      "cell_type": "code",
      "execution_count": null,
      "metadata": {
        "id": "0bb5bbbf"
      },
      "outputs": [],
      "source": [
        "# Add, commit, and push changes to GitHub\n",
        "%cd /content/civic_sentiment\n",
        "\n",
        "!git config --global user.email \"rrrijal24@gmail.com\"\n",
        "!git config --global user.name \"Rnov24\"\n",
        "\n",
        "!git status\n",
        "!git add .\n",
        "!git commit -m \"feat: Add raw and processed data files\"\n",
        "!git push"
      ]
    }
  ],
  "metadata": {
    "colab": {
      "provenance": [],
      "include_colab_link": true
    },
    "kernelspec": {
      "display_name": "Python 3",
      "language": "python",
      "name": "python3"
    },
    "language_info": {
      "codemirror_mode": {
        "name": "ipython",
        "version": 3
      },
      "file_extension": ".py",
      "mimetype": "text/x-python",
      "name": "python",
      "nbconvert_exporter": "python",
      "pygments_lexer": "ipython3",
      "version": "3.12.0"
    }
  },
  "nbformat": 4,
  "nbformat_minor": 0
}