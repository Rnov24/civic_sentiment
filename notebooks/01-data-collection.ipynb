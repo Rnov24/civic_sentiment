{
 "cells": [
  {
   "cell_type": "markdown",
   "metadata": {},
   "source": [
    "# Data Collection"
   ]
  },
  {
   "cell_type": "markdown",
   "metadata": {},
   "source": [
    "This notebook is for collecting data for the project. You can use the `scraping.py` module to scrape data from YouTube."
   ]
  },
  {
   "cell_type": "markdown",
   "metadata": {},
   "source": [
    "## 1. Environment Setup"
   ]
  },
  {
   "cell_type": "markdown",
   "metadata": {},
   "source": [
    "If you are using Google Colab, run the following cell to set up your environment. If you are working locally, you can skip this step."
   ]
  },
  {
   "cell_type": "code",
   "execution_count": null,
   "metadata": {},
   "outputs": [],
   "source": [
    "import os\n",
    "from pathlib import Path\n",
    "import toml\n",
    "import sys\n",
    "import subprocess\n",
    "\n",
    "# --- 1. Clone your GitHub repository ---\n",
    "repo_url = \"https://github.com/rnov24/civic_sentiment.git\"\n",
    "repo_name = \"civic_sentiment\"  # Should match the PROJ_ROOT in config.py\n",
    "clone_path = Path(\"/content\") / repo_name\n",
    "\n",
    "if not clone_path.exists():\n",
    "    # For private repositories, you'll need to use a GitHub token\n",
    "    # from getpass import getpass\n",
    "    # token = getpass('Enter your GitHub token: ')\n",
    "    # repo_url = repo_url.replace(\"https://\", f\"https://{token}@\")\n",
    "    subprocess.run([\"git\", \"clone\", repo_url, str(clone_path)], check=True)\n",
    "else:\n",
    "    print(\"Repository already cloned.\")\n",
    "\n",
    "# --- 2. Install project dependencies ---\n",
    "sys.path.append(str(clone_path))\n",
    "pyproject_path = clone_path / \"pyproject.toml\"\n",
    "\n",
    "with open(pyproject_path, \"r\") as f:\n",
    "    pyproject = toml.load(f)\n",
    "\n",
    "dependencies = pyproject[\"project\"][\"dependencies\"]\n",
    "subprocess.run([\"pip\", \"install\"] + dependencies, check=True)\n",
    "\n",
    "# --- 3. Now you can import your project modules ---\n",
    "# The PROJ_ROOT in config.py is now correctly set to /content/civic_sentiment\n",
    "from civic_sentiment.config import RAW_DATA_DIR\n",
    "\n",
    "print(\"\\nEnvironment setup complete!\")\n",
    "print(f\"Raw data directory: {RAW_DATA_DIR}\")"
   ]
  },
  {
   "cell_type": "markdown",
   "metadata": {},
   "source": [
    "## 2. Scrape YouTube Comments"
   ]
  },
  {
   "cell_type": "code",
   "execution_count": null,
   "metadata": {},
   "outputs": [],
   "source": [
    "from civic_sentiment.scraping import get_video_comments, main\n",
    "import os\n",
    "\n",
    "# Get the API key from the environment variable\n",
    "API_KEY = os.getenv(\"YOUTUBE_API_KEY\")\n",
    "\n",
    "# Example: Get comments from a single video\n",
    "video_id = \"dQw4w9WgXcQ\" # Rick Astley - Never Gonna Give You Up\n",
    "if API_KEY:\n",
    "    comments = get_video_comments(API_KEY, video_id)\n",
    "    print(f\"Found {len(comments)} comments for video {video_id}\")\n",
    "else:\n",
    "    print(\"YOUTUBE_API_KEY environment variable not set.\")"
   ]
  },
  {
   "cell_type": "code",
   "execution_count": null,
   "metadata": {},
   "outputs": [],
   "source": [
    "# Example: Scrape comments from multiple videos and save to a CSV file\n",
    "video_ids = [\"dQw4w9WgXcQ\", \"o-YBDTqX_ZU\"] # Add your video IDs here\n",
    "if API_KEY:\n",
    "    main(video_ids)\n",
    "else:\n",
    "    print(\"YOUTUBE_API_KEY environment variable not set.\")"
   ]
  }
 ],
 "metadata": {
  "kernelspec": {
   "display_name": "Python 3",
   "language": "python",
   "name": "python3"
  },
  "language_info": {
   "codemirror_mode": {
    "name": "ipython",
    "version": 3
   },
   "file_extension": ".py",
   "mimetype": "text/x-python",
   "name": "python",
   "nbconvert_exporter": "python",
   "pygments_lexer": "ipython3",
   "version": "3.12.0"
  }
 },
 "nbformat": 4,
 "nbformat_minor": 4
}
